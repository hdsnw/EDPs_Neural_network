{
  "cells": [
    {
      "cell_type": "code",
      "execution_count": 1,
      "metadata": {
        "id": "YIol2r-8yVQF"
      },
      "outputs": [
        {
          "name": "stderr",
          "output_type": "stream",
          "text": [
            "/home/hudson/Unifei/TCC/codigos/EDPs_Neural_network/venv/lib/python3.9/site-packages/tqdm/auto.py:21: TqdmWarning: IProgress not found. Please update jupyter and ipywidgets. See https://ipywidgets.readthedocs.io/en/stable/user_install.html\n",
            "  from .autonotebook import tqdm as notebook_tqdm\n"
          ]
        }
      ],
      "source": [
        "import math\n",
        "import pandas as pd\n",
        "import numpy as np\n",
        "import torch\n",
        "import torch.optim as optim\n",
        "import random\n",
        "from torch.autograd import Variable\n",
        "from matplotlib import pyplot as plt\n",
        "import seaborn as sns\n",
        "from torch import nn\n",
        "from collections import OrderedDict\n",
        "from torch.utils.data import DataLoader\n",
        "\n",
        "import torchmetrics\n",
        "\n",
        "import optuna\n",
        "\n",
        "from tqdm import tqdm\n",
        "\n",
        "import time\n",
        "import plotly.graph_objects as go\n",
        "import os\n",
        "\n",
        "from torchviz import make_dot, make_dot_from_trace"
      ]
    },
    {
      "cell_type": "code",
      "execution_count": 2,
      "metadata": {},
      "outputs": [],
      "source": [
        "from Loss import Loss\n",
        "from Net import Net"
      ]
    },
    {
      "cell_type": "code",
      "execution_count": 3,
      "metadata": {
        "id": "v-YVfDqmyeJx"
      },
      "outputs": [],
      "source": [
        "torch.set_default_dtype(torch.float64)"
      ]
    },
    {
      "cell_type": "code",
      "execution_count": null,
      "metadata": {
        "id": "jUM4tUNJrghV"
      },
      "outputs": [],
      "source": []
    },
    {
      "cell_type": "code",
      "execution_count": 4,
      "metadata": {
        "id": "OYolfp9nyrDI"
      },
      "outputs": [],
      "source": [
        "def metricas(net, sol_eq, a, b):\n",
        "    \"\"\"Calcula a o erro médio quadrado e o erro médio\n",
        "    absoluto de uma rede neural.\n",
        "\n",
        "    Parameters\n",
        "    ----------\n",
        "    net : _type_\n",
        "        Rede neural\n",
        "    sol_eq : _type_\n",
        "        Função da equação analítica\n",
        "    a : int\n",
        "        _description_\n",
        "    b : int\n",
        "        _description_\n",
        "\n",
        "    Returns\n",
        "    -------\n",
        "    Tuple\n",
        "        Erro médio quadrado e erro médio absoluto\n",
        "    \"\"\"\n",
        "    xx = torch.linspace(0, a, 100)\n",
        "    yy = torch.linspace(0, b, 100)\n",
        "\n",
        "    xx, yy = torch.meshgrid(xx, yy, indexing='xy')\n",
        "\n",
        "    xx = xx.reshape((xx.shape[0]**2, 1))\n",
        "    yy = yy.reshape((yy.shape[0]**2, 1))\n",
        "\n",
        "    sol = sol_eq(xx, yy)\n",
        "    prev = net.predict(torch.cat([xx, yy], axis=1))\n",
        "\n",
        "    return torchmetrics.functional.mean_squared_error(sol, prev),\\\n",
        "           torchmetrics.functional.mean_absolute_error(sol, prev)"
      ]
    },
    {
      "cell_type": "code",
      "execution_count": 5,
      "metadata": {
        "id": "QVbyh91ZyvYJ"
      },
      "outputs": [],
      "source": [
        "def plot_solucao_erro_l2(net, sol_eq, a, b):\n",
        "    xx = torch.linspace(0, a, 100)\n",
        "    yy = torch.linspace(0, b, 100)\n",
        "\n",
        "    xx, yy = torch.meshgrid(xx, yy, indexing='xy')\n",
        "\n",
        "    xx = xx.reshape((xx.shape[0]**2, 1))\n",
        "    yy = yy.reshape((yy.shape[0]**2, 1))\n",
        "\n",
        "    sol = sol_eq(xx, yy)\n",
        "    prev = net.predict(torch.cat([xx, yy], axis=1))\n",
        "\n",
        "    prev = prev.reshape((100, 100))\n",
        "    sol = sol.reshape((100, 100))\n",
        "    xx = xx.reshape((100, 100))\n",
        "    yy = yy.reshape((100, 100))\n",
        "\n",
        "    #plot\n",
        "    fig1, ax = plt.subplots(1, 2, figsize=(20,7))\n",
        "\n",
        "    img1 = ax[0].pcolor(xx.numpy(), yy.numpy(), sol.numpy(), vmin=sol.min(), vmax=sol.max())\n",
        "    fig1.colorbar(img1, ax=ax[0])\n",
        "    ax[0].set_title('Solução Analítica')\n",
        "    ax[0].set_xlabel('x')\n",
        "    ax[0].set_ylabel('y')\n",
        "\n",
        "    img2 = ax[1].pcolor(xx.numpy(), yy.numpy(), prev.numpy(), vmin=sol.min(), vmax=sol.max())\n",
        "    fig1.colorbar(img2, ax=ax[1])\n",
        "\n",
        "    ax[1].set_title('Solução numérica obtida pela rede neural1')\n",
        "    ax[1].set_xlabel('x')\n",
        "    ax[1].set_ylabel('y')\n",
        "    #plt.show()\n",
        "\n",
        "    # Plot erro L2\n",
        "    fig, ax = plt.subplots(1, 1, figsize=(7,5))\n",
        "\n",
        "    img1 = ax.pcolor(xx.numpy(), yy.numpy(), abs(prev.numpy() - sol.numpy()))\n",
        "    fig.colorbar(img1, ax=ax)\n",
        "    ax.set_title('Erro L2')\n",
        "    ax.set_xlabel('x')\n",
        "    ax.set_ylabel('y')\n",
        "    #plt.show()\n",
        "\n",
        "    return fig1, fig\n"
      ]
    },
    {
      "cell_type": "markdown",
      "metadata": {
        "id": "gq78e-WIr638"
      },
      "source": [
        "# Gráficos"
      ]
    },
    {
      "cell_type": "code",
      "execution_count": 6,
      "metadata": {
        "id": "BSCG0LD2r7U5"
      },
      "outputs": [],
      "source": [
        "def plot_convergencia(epochs_array, loss_array):\n",
        "  loss = np.array(loss_array).sum(axis=1)\n",
        "\n",
        "  fig = plt.figure(figsize=(10, 5))\n",
        "  ax = sns.lineplot(x=epochs_array, y=loss)\n",
        "  # Configurar os labels do eixo x e y\n",
        "  plt.xlabel('Épocas')\n",
        "  plt.ylabel('Loss')\n",
        "  plt.title('Gráfico de Convergência')\n",
        "\n",
        "  return fig"
      ]
    },
    {
      "cell_type": "markdown",
      "metadata": {
        "id": "Qu4cPhnrzLkg"
      },
      "source": [
        "# Treino"
      ]
    },
    {
      "cell_type": "code",
      "execution_count": 7,
      "metadata": {
        "id": "TzZQETQq27hB"
      },
      "outputs": [],
      "source": [
        "### Amostra para entrada:\n",
        "### L: tamanho da amostra\n",
        "# np.random.seed(42)\n",
        "# Laplace\n",
        "L=100\n",
        "a = 3\n",
        "b = 2\n",
        "# Calor\n",
        "a = 40\n",
        "b = 10\n",
        "# Onda 2\n",
        "a = 1\n",
        "b = 1\n",
        "x = np.random.uniform(0,a, size=L) ##\n",
        "t = np.random.uniform(0,b, size=L)\n",
        "\n",
        "# joblib.dump(x, PATH + 'x.pkl')\n",
        "# joblib.dump(t, PATH + 't.pkl')"
      ]
    },
    {
      "cell_type": "code",
      "execution_count": 8,
      "metadata": {
        "colab": {
          "base_uri": "https://localhost:8080/",
          "height": 472
        },
        "id": "PGtcyAI6zMvB",
        "outputId": "e9b48467-5a62-4d3b-a4b9-ef5c4bdcd9a5"
      },
      "outputs": [
        {
          "data": {
            "image/png": "[encoded data removed]",
            "text/plain": [
              "<Figure size 640x480 with 1 Axes>"
            ]
          },
          "metadata": {},
          "output_type": "display_data"
        }
      ],
      "source": [
        "# x = joblib.load(PATH + 'x.pkl')\n",
        "# t = joblib.load(PATH + 't.pkl')\n",
        "\n",
        "plt.plot(x, t, 'or')\n",
        "#plt.plot(dom_pred, im_pred, 'or')\n",
        "plt.xlabel('x')\n",
        "plt.ylabel('y')\n",
        "plt.title('Conjunto de treinamento')\n",
        "plt.show()"
      ]
    },
    {
      "cell_type": "code",
      "execution_count": null,
      "metadata": {
        "id": "NjqaJTEFkg9K"
      },
      "outputs": [],
      "source": []
    },
    {
      "cell_type": "code",
      "execution_count": 9,
      "metadata": {
        "id": "n7kxQiz8zORD"
      },
      "outputs": [],
      "source": [
        "# Convertendo para tensor\n",
        "x = np.expand_dims(x, axis=0)\n",
        "t = np.expand_dims(t, axis=0)\n",
        "\n",
        "inp = torch.tensor(np.concatenate([x, t]).T, requires_grad=True)"
      ]
    },
    {
      "cell_type": "code",
      "execution_count": 10,
      "metadata": {
        "colab": {
          "base_uri": "https://localhost:8080/"
        },
        "id": "pll_tpeEdedZ",
        "outputId": "18dbd222-e0c2-49d4-d9ca-4f4c50645b7b"
      },
      "outputs": [
        {
          "name": "stdout",
          "output_type": "stream",
          "text": [
            "device: cpu\n"
          ]
        }
      ],
      "source": [
        "device = \"cuda\" if torch.cuda.is_available() else \"cpu\"\n",
        "print(f\"device: {device}\")"
      ]
    },
    {
      "cell_type": "code",
      "execution_count": 11,
      "metadata": {
        "id": "6JSDO1x65Gvc"
      },
      "outputs": [],
      "source": [
        "net = Net.Net(layers=[2, 10, 10, 10, 10, 1],\n",
        "              activation_functions=[nn.SiLU]*4,\n",
        "              loss=Loss.LossOnda2(taxa_aceleracao=1), # Loss.LossLaplace(taxa_aceleracao=1),\n",
        "              optimizer=optim.Adamax,\n",
        "              optimizer_params={'lr': 0.001},\n",
        "              device=device)"
      ]
    },
    {
      "cell_type": "code",
      "execution_count": 12,
      "metadata": {
        "colab": {
          "base_uri": "https://localhost:8080/"
        },
        "id": "Mtj74r6O5JQk",
        "outputId": "e9d958d0-ef84-4665-a8cb-92dea2c3a276"
      },
      "outputs": [
        {
          "data": {
            "text/plain": [
              "<bound method Module.parameters of Model(\n",
              "  (features): Sequential(\n",
              "    (0): Linear(in_features=2, out_features=10, bias=True)\n",
              "    (1): SiLU()\n",
              "  )\n",
              "  (hidden): Sequential(\n",
              "    (linear1): Linear(in_features=10, out_features=10, bias=True)\n",
              "    (activaction function 1): SiLU()\n",
              "    (linear2): Linear(in_features=10, out_features=10, bias=True)\n",
              "    (activaction function 2): SiLU()\n",
              "    (linear3): Linear(in_features=10, out_features=10, bias=True)\n",
              "    (activaction function 3): SiLU()\n",
              "  )\n",
              "  (out): Sequential(\n",
              "    (0): Linear(in_features=10, out_features=1, bias=True)\n",
              "  )\n",
              ")>"
            ]
          },
          "execution_count": 12,
          "metadata": {},
          "output_type": "execute_result"
        }
      ],
      "source": [
        "nt = net.net\n",
        "nt.parameters"
      ]
    },
    {
      "cell_type": "code",
      "execution_count": 13,
      "metadata": {
        "colab": {
          "base_uri": "https://localhost:8080/"
        },
        "id": "5muMK74w5PCp",
        "outputId": "7d348a01-30a8-41ed-eda3-cfc3eef013ca"
      },
      "outputs": [
        {
          "name": "stdout",
          "output_type": "stream",
          "text": [
            "Epoch 1000, Loss 18.253510508486144\n",
            "Epoch 2000, Loss 0.3619081417316854\n",
            "Epoch 3000, Loss 0.040109250662814934\n",
            "Epoch 4000, Loss 0.026531453478941806\n",
            "Epoch 5000, Loss 0.020596269109241713\n"
          ]
        }
      ],
      "source": [
        "epochs_array, loss_array = net.fit(x=inp, epochs=5000, nbatches=1, output_loss=True)"
      ]
    },
    {
      "cell_type": "code",
      "execution_count": 14,
      "metadata": {
        "colab": {
          "base_uri": "https://localhost:8080/"
        },
        "id": "aYrivh9Bz9ss",
        "outputId": "b7e14218-5325-498a-d8e7-75a1ca6ab2c2"
      },
      "outputs": [
        {
          "data": {
            "text/plain": [
              "(tensor(1.2734e-05), tensor(0.0030))"
            ]
          },
          "execution_count": 14,
          "metadata": {},
          "output_type": "execute_result"
        }
      ],
      "source": [
        "# metricas(net, Loss.solution_laplace, a, b)\n",
        "metricas(net, Loss.solution_onda_2, a, b)"
      ]
    },
    {
      "cell_type": "code",
      "execution_count": 16,
      "metadata": {
        "colab": {
          "base_uri": "https://localhost:8080/",
          "height": 983
        },
        "id": "mXe64j1vzadr",
        "outputId": "e4d92723-5d57-4ece-bc0f-9fd6ba9daf2e"
      },
      "outputs": [
        {
          "data": {
            "image/png": "[encoded data removed]",
            "text/plain": [
              "<Figure size 2000x700 with 4 Axes>"
            ]
          },
          "metadata": {},
          "output_type": "display_data"
        },
        {
          "data": {
            "image/png": "[encoded data removed]",
            "text/plain": [
              "<Figure size 700x500 with 2 Axes>"
            ]
          },
          "metadata": {},
          "output_type": "display_data"
        }
      ],
      "source": [
        "# fig1, fig2 = plot_solucao_erro_l2(net, Loss.solution_laplace, a, b)\n",
        "fig1, fig2 = plot_solucao_erro_l2(net, Loss.solution_onda_2, a, b)"
      ]
    },
    {
      "cell_type": "code",
      "execution_count": null,
      "metadata": {
        "id": "kOpp3Uq4ko7i"
      },
      "outputs": [],
      "source": []
    },
    {
      "cell_type": "markdown",
      "metadata": {
        "id": "K_wxJSz7kqwc"
      },
      "source": [
        "# Otimizando"
      ]
    },
    {
      "cell_type": "code",
      "execution_count": 36,
      "metadata": {
        "id": "nAi5VJh8kpCC"
      },
      "outputs": [],
      "source": [
        "def objective(trial):\n",
        "   # Define the search space for the hyperparameters\n",
        "    n_layers = trial.suggest_int('n_layers', 1, 10)\n",
        "    layer_sizes = [trial.suggest_int(f'layer_{i}_size', 1, 30) for i in range(n_layers)]\n",
        "    activations = [trial.suggest_categorical(f'layer_{i}_activation', ['relu', 'tanh', 'silu']) for i in range(n_layers)]\n",
        "    learning_rate = trial.suggest_float('learning_rate', 1e-5, 1e-1, log=True)\n",
        "    weight_decay = trial.suggest_float('weight_decay', 1e-10, 1e-3, log=True)\n",
        "    optimizer_name = trial.suggest_categorical('optimizer', ['Adam', 'SGD', 'RMSprop', 'Adamax'])\n",
        "    num_epochs = trial.suggest_int('num_epochs', 1, 30000)\n",
        "    batch_size = trial.suggest_int('batch_size', 1, 10)\n",
        "    taxa_aceleracao = trial.suggest_categorical(f'taxa de aceleração', [1, 1e-3])\n",
        "\n",
        "    # Define the model architecture\n",
        "    layers = [2] + layer_sizes + [1]\n",
        "    activations_list = []\n",
        "    for i in range(n_layers):\n",
        "        activation = activations[i]\n",
        "        if activation == 'relu':\n",
        "            activations_list.append(nn.ReLU)\n",
        "        elif activation == 'silu':\n",
        "            activations_list.append(nn.SiLU)\n",
        "        elif activation == 'tanh':\n",
        "            activations_list.append(nn.Tanh)\n",
        "\n",
        "     # Define the optimizer\n",
        "    if optimizer_name == 'Adam':\n",
        "        optimizer = optim.Adam\n",
        "    elif optimizer_name == 'SGD':\n",
        "        optimizer = optim.SGD\n",
        "    elif optimizer_name == 'RMSprop':\n",
        "        optimizer = optim.RMSprop\n",
        "    elif optimizer_name == 'Adamax':\n",
        "        optimizer = optim.Adamax\n",
        "\n",
        "    net = Net.Net(layers=layers,\n",
        "                  activation_functions=activations_list,\n",
        "                  loss=Loss.LossLaplace(taxa_aceleracao=taxa_aceleracao),\n",
        "                  optimizer=optimizer,\n",
        "                  optimizer_params={'lr': learning_rate,\n",
        "                                    'weight_decay': weight_decay},\n",
        "                  device=device)\n",
        "\n",
        "    epochs_array, loss_array = net.fit(x=inp, epochs=num_epochs, nbatches=batch_size, output_loss=True)\n",
        "\n",
        "    mse, mae = metricas(net, Loss.solution_laplace, a, b)\n",
        "\n",
        "    return float(mse)"
      ]
    },
    {
      "cell_type": "code",
      "execution_count": 37,
      "metadata": {},
      "outputs": [],
      "source": [
        "import joblib"
      ]
    },
    {
      "cell_type": "code",
      "execution_count": 38,
      "metadata": {
        "colab": {
          "base_uri": "https://localhost:8080/"
        },
        "id": "joWN452GkpIt",
        "outputId": "bbfa8d0e-2ca0-4bd7-c19d-f18d26026a3c"
      },
      "outputs": [
        {
          "name": "stderr",
          "output_type": "stream",
          "text": [
            "\u001b[32m[I 2023-10-09 22:21:46,109]\u001b[0m A new study created in memory with name: no-name-8097967d-e9c2-45e3-8426-77f893d80b90\u001b[0m\n"
          ]
        }
      ],
      "source": [
        "try:\n",
        "    study = joblib.load('pickle_data/study.pkl')\n",
        "except:\n",
        "    study = optuna.create_study(direction='minimize')"
      ]
    },
    {
      "cell_type": "code",
      "execution_count": 39,
      "metadata": {},
      "outputs": [
        {
          "name": "stdout",
          "output_type": "stream",
          "text": [
            "Epoch 1000, Loss 1.848055156100639\n",
            "Epoch 2000, Loss 1.505789017762867\n",
            "Epoch 3000, Loss 1.1931798219551961\n",
            "Epoch 4000, Loss 0.8407038086791021\n",
            "Epoch 5000, Loss 0.5781088549992668\n",
            "Epoch 6000, Loss 0.4514911808583808\n",
            "Epoch 7000, Loss 0.37927361572894336\n",
            "Epoch 8000, Loss 0.3394396926921608\n",
            "Epoch 9000, Loss 0.2786071878228677\n",
            "Epoch 10000, Loss 0.2620975948613532\n",
            "Epoch 11000, Loss 0.24051761220802198\n",
            "Epoch 12000, Loss 0.23342480585868602\n",
            "Epoch 13000, Loss 0.22272964165348014\n",
            "Epoch 14000, Loss 0.23064836976103226\n",
            "Epoch 15000, Loss 0.2303239405228322\n",
            "Epoch 16000, Loss 0.21509305514256605\n",
            "Epoch 17000, Loss 0.18537450385347642\n",
            "Epoch 18000, Loss 0.18014924135941673\n",
            "Epoch 19000, Loss 0.18934157566742893\n",
            "Epoch 20000, Loss 0.17510043459043942\n",
            "Epoch 21000, Loss 0.1705811898460085\n",
            "Epoch 22000, Loss 0.17480552108787764\n",
            "Epoch 23000, Loss 0.175268663389127\n"
          ]
        },
        {
          "name": "stderr",
          "output_type": "stream",
          "text": [
            "\u001b[32m[I 2023-10-09 22:58:47,212]\u001b[0m Trial 0 finished with value: 0.03555608981190821 and parameters: {'n_layers': 3, 'layer_0_size': 10, 'layer_1_size': 29, 'layer_2_size': 28, 'layer_0_activation': 'tanh', 'layer_1_activation': 'relu', 'layer_2_activation': 'tanh', 'learning_rate': 1.9835516963643354e-05, 'weight_decay': 2.384994566448677e-05, 'optimizer': 'RMSprop', 'num_epochs': 23607, 'batch_size': 10, 'taxa de aceleração': 1}. Best is trial 0 with value: 0.03555608981190821.\u001b[0m\n"
          ]
        },
        {
          "name": "stdout",
          "output_type": "stream",
          "text": [
            "Epoch 1000, Loss 6.156264374430871\n",
            "Epoch 2000, Loss 6.156264374430871\n",
            "Epoch 3000, Loss 6.156264374430871\n",
            "Epoch 4000, Loss 6.156264374430871\n",
            "Epoch 5000, Loss 6.156264374430871\n",
            "Epoch 6000, Loss 6.156264374430871\n",
            "Epoch 7000, Loss 6.156264374430871\n",
            "Epoch 8000, Loss 6.156264374430871\n",
            "Epoch 9000, Loss 6.156264374430871\n",
            "Epoch 10000, Loss 6.156264374430871\n",
            "Epoch 11000, Loss 6.156264374430871\n",
            "Epoch 12000, Loss 6.156264374430871\n",
            "Epoch 13000, Loss 6.156264374430871\n",
            "Epoch 14000, Loss 6.156264374430871\n",
            "Epoch 15000, Loss 6.156264374430871\n",
            "Epoch 16000, Loss 6.156264374430871\n",
            "Epoch 17000, Loss 6.156264374430871\n",
            "Epoch 18000, Loss 6.156264374430871\n",
            "Epoch 19000, Loss 6.156264374430871\n",
            "Epoch 20000, Loss 6.156264374430871\n",
            "Epoch 21000, Loss 6.156264374430871\n"
          ]
        },
        {
          "name": "stderr",
          "output_type": "stream",
          "text": [
            "\u001b[32m[I 2023-10-09 23:16:24,023]\u001b[0m Trial 1 finished with value: 0.024616743854827566 and parameters: {'n_layers': 7, 'layer_0_size': 4, 'layer_1_size': 16, 'layer_2_size': 6, 'layer_3_size': 30, 'layer_4_size': 22, 'layer_5_size': 15, 'layer_6_size': 24, 'layer_0_activation': 'tanh', 'layer_1_activation': 'tanh', 'layer_2_activation': 'relu', 'layer_3_activation': 'tanh', 'layer_4_activation': 'tanh', 'layer_5_activation': 'tanh', 'layer_6_activation': 'silu', 'learning_rate': 0.000849630196742036, 'weight_decay': 5.473404471289755e-09, 'optimizer': 'SGD', 'num_epochs': 21996, 'batch_size': 4, 'taxa de aceleração': 1}. Best is trial 1 with value: 0.024616743854827566.\u001b[0m\n"
          ]
        },
        {
          "name": "stdout",
          "output_type": "stream",
          "text": [
            "Epoch 1000, Loss 2.8915941044744472e-05\n",
            "Epoch 2000, Loss 5.554619184244688e-05\n",
            "Epoch 3000, Loss 1.0102617462833909e-05\n",
            "Epoch 4000, Loss 2.257804244988495e-05\n",
            "Epoch 5000, Loss 8.568469129178772e-05\n",
            "Epoch 6000, Loss 0.00010146575935312757\n",
            "Epoch 7000, Loss 1.9099480465492097e-05\n",
            "Epoch 8000, Loss 3.7506451498293273e-06\n",
            "Epoch 9000, Loss 6.341896935781303e-05\n",
            "Epoch 10000, Loss 8.384222850440675e-05\n",
            "Epoch 11000, Loss 5.81274071109955e-06\n",
            "Epoch 12000, Loss 0.0001533680127935715\n",
            "Epoch 13000, Loss 1.1568901441493721e-05\n",
            "Epoch 14000, Loss 1.4197841523610217e-05\n"
          ]
        },
        {
          "name": "stderr",
          "output_type": "stream",
          "text": [
            "\u001b[32m[I 2023-10-09 23:34:10,782]\u001b[0m Trial 2 finished with value: 0.00023058992937667323 and parameters: {'n_layers': 3, 'layer_0_size': 25, 'layer_1_size': 19, 'layer_2_size': 10, 'layer_0_activation': 'silu', 'layer_1_activation': 'tanh', 'layer_2_activation': 'tanh', 'learning_rate': 0.03468323083663553, 'weight_decay': 1.3755949988411547e-07, 'optimizer': 'Adamax', 'num_epochs': 14088, 'batch_size': 10, 'taxa de aceleração': 0.001}. Best is trial 2 with value: 0.00023058992937667323.\u001b[0m\n"
          ]
        },
        {
          "name": "stdout",
          "output_type": "stream",
          "text": [
            "Epoch 1000, Loss 0.5513837980972376\n",
            "Epoch 2000, Loss 0.5414916532689937\n",
            "Epoch 3000, Loss 0.5851314278167234\n",
            "Epoch 4000, Loss 0.6605072533082863\n",
            "Epoch 5000, Loss 0.7093325505603572\n",
            "Epoch 6000, Loss 0.6417510736759198\n",
            "Epoch 7000, Loss 0.670946325944034\n",
            "Epoch 8000, Loss 0.678632767903271\n",
            "Epoch 9000, Loss 0.5821142351825976\n",
            "Epoch 10000, Loss 0.9908603707681343\n",
            "Epoch 11000, Loss 0.6533655628154047\n",
            "Epoch 12000, Loss 0.6302587540398508\n"
          ]
        },
        {
          "name": "stderr",
          "output_type": "stream",
          "text": [
            "\u001b[32m[I 2023-10-09 23:50:03,225]\u001b[0m Trial 3 finished with value: 0.01655058283519466 and parameters: {'n_layers': 10, 'layer_0_size': 13, 'layer_1_size': 23, 'layer_2_size': 27, 'layer_3_size': 21, 'layer_4_size': 7, 'layer_5_size': 11, 'layer_6_size': 3, 'layer_7_size': 17, 'layer_8_size': 18, 'layer_9_size': 10, 'layer_0_activation': 'silu', 'layer_1_activation': 'relu', 'layer_2_activation': 'tanh', 'layer_3_activation': 'silu', 'layer_4_activation': 'relu', 'layer_5_activation': 'tanh', 'layer_6_activation': 'silu', 'layer_7_activation': 'relu', 'layer_8_activation': 'tanh', 'layer_9_activation': 'tanh', 'learning_rate': 0.0006476940793487427, 'weight_decay': 6.706054454364039e-06, 'optimizer': 'RMSprop', 'num_epochs': 12779, 'batch_size': 3, 'taxa de aceleração': 1}. Best is trial 2 with value: 0.00023058992937667323.\u001b[0m\n"
          ]
        },
        {
          "name": "stdout",
          "output_type": "stream",
          "text": [
            "Epoch 1000, Loss 0.0016584645185267742\n",
            "Epoch 2000, Loss 0.0008700388252043138\n",
            "Epoch 3000, Loss 0.0015144006470677305\n",
            "Epoch 4000, Loss 0.0012245293271972222\n",
            "Epoch 5000, Loss 0.0016226202453237717\n",
            "Epoch 6000, Loss 0.001082296594402685\n",
            "Epoch 7000, Loss 0.00019720473429219728\n",
            "Epoch 8000, Loss 0.0007060140634889667\n",
            "Epoch 9000, Loss 0.0010589181278307012\n",
            "Epoch 10000, Loss 0.0003733866383155612\n",
            "Epoch 11000, Loss 0.0011526260676497687\n",
            "Epoch 12000, Loss 0.00013468623346201038\n",
            "Epoch 13000, Loss 0.0007065148499214508\n",
            "Epoch 14000, Loss 0.002265607128709026\n",
            "Epoch 15000, Loss 0.0006241604891025252\n",
            "Epoch 16000, Loss 0.0002933553137308973\n",
            "Epoch 17000, Loss 0.0006494544967360455\n",
            "Epoch 18000, Loss 0.0010235684805885285\n",
            "Epoch 19000, Loss 0.0003434642754383048\n",
            "Epoch 20000, Loss 0.0008919114428139947\n"
          ]
        },
        {
          "name": "stderr",
          "output_type": "stream",
          "text": [
            "\u001b[32m[I 2023-10-10 00:15:14,497]\u001b[0m Trial 4 finished with value: 0.0029522165959344343 and parameters: {'n_layers': 3, 'layer_0_size': 27, 'layer_1_size': 10, 'layer_2_size': 26, 'layer_0_activation': 'relu', 'layer_1_activation': 'tanh', 'layer_2_activation': 'tanh', 'learning_rate': 0.000689929131938679, 'weight_decay': 1.7930388449024773e-06, 'optimizer': 'RMSprop', 'num_epochs': 20432, 'batch_size': 10, 'taxa de aceleração': 0.001}. Best is trial 2 with value: 0.00023058992937667323.\u001b[0m\n"
          ]
        },
        {
          "name": "stdout",
          "output_type": "stream",
          "text": [
            "Epoch 1000, Loss 0.004895592662033329\n",
            "Epoch 2000, Loss 0.03706320779965318\n",
            "Epoch 3000, Loss 0.004294920004166456\n",
            "Epoch 4000, Loss 0.0018469233523663732\n",
            "Epoch 5000, Loss 0.0015127253659418713\n",
            "Epoch 6000, Loss 0.016058749188534473\n",
            "Epoch 7000, Loss 0.00029338478143834393\n",
            "Epoch 8000, Loss 0.0014975759119842985\n",
            "Epoch 9000, Loss 0.0008621443495071716\n",
            "Epoch 10000, Loss 0.002286681596062856\n",
            "Epoch 11000, Loss 0.00017053518223612268\n",
            "Epoch 12000, Loss 0.0004081429760315557\n",
            "Epoch 13000, Loss 0.0022012430017730915\n",
            "Epoch 14000, Loss 0.00021523416608185426\n",
            "Epoch 15000, Loss 0.0008331371346422412\n",
            "Epoch 16000, Loss 0.008880897960126434\n",
            "Epoch 17000, Loss 0.0009934282170865813\n",
            "Epoch 18000, Loss 0.005614083973290799\n",
            "Epoch 19000, Loss 0.0002967428979158135\n",
            "Epoch 20000, Loss 0.0001884166477984522\n",
            "Epoch 21000, Loss 0.00016930925962604565\n",
            "Epoch 22000, Loss 0.00020002445956006408\n"
          ]
        },
        {
          "name": "stderr",
          "output_type": "stream",
          "text": [
            "\u001b[32m[I 2023-10-10 01:06:10,834]\u001b[0m Trial 5 finished with value: 1.5452192139980156e-05 and parameters: {'n_layers': 8, 'layer_0_size': 15, 'layer_1_size': 22, 'layer_2_size': 6, 'layer_3_size': 21, 'layer_4_size': 14, 'layer_5_size': 28, 'layer_6_size': 7, 'layer_7_size': 13, 'layer_0_activation': 'silu', 'layer_1_activation': 'silu', 'layer_2_activation': 'silu', 'layer_3_activation': 'tanh', 'layer_4_activation': 'tanh', 'layer_5_activation': 'silu', 'layer_6_activation': 'silu', 'layer_7_activation': 'silu', 'learning_rate': 0.01743784675087206, 'weight_decay': 5.404118367703678e-09, 'optimizer': 'Adamax', 'num_epochs': 22348, 'batch_size': 9, 'taxa de aceleração': 1}. Best is trial 5 with value: 1.5452192139980156e-05.\u001b[0m\n"
          ]
        },
        {
          "name": "stdout",
          "output_type": "stream",
          "text": [
            "Epoch 1000, Loss 22.73717305191128\n",
            "Epoch 2000, Loss 18.181088939548403\n",
            "Epoch 3000, Loss 16.049226944792018\n",
            "Epoch 4000, Loss 15.968174779070754\n",
            "Epoch 5000, Loss 15.793219762727102\n",
            "Epoch 6000, Loss 16.2686100142938\n",
            "Epoch 7000, Loss 16.381363846210206\n",
            "Epoch 8000, Loss 16.35512166627456\n",
            "Epoch 9000, Loss 17.515424149735978\n",
            "Epoch 10000, Loss 17.48108292112901\n",
            "Epoch 11000, Loss 18.304424949042648\n",
            "Epoch 12000, Loss 18.9739026775097\n",
            "Epoch 13000, Loss 18.799143043036096\n",
            "Epoch 14000, Loss 18.716553551270756\n",
            "Epoch 15000, Loss 19.580491162894038\n",
            "Epoch 16000, Loss 19.697230664681484\n",
            "Epoch 17000, Loss 19.380128028750427\n"
          ]
        },
        {
          "name": "stderr",
          "output_type": "stream",
          "text": [
            "\u001b[32m[I 2023-10-10 01:12:03,442]\u001b[0m Trial 6 finished with value: 0.021949568220163838 and parameters: {'n_layers': 10, 'layer_0_size': 24, 'layer_1_size': 3, 'layer_2_size': 18, 'layer_3_size': 16, 'layer_4_size': 6, 'layer_5_size': 22, 'layer_6_size': 2, 'layer_7_size': 16, 'layer_8_size': 1, 'layer_9_size': 20, 'layer_0_activation': 'tanh', 'layer_1_activation': 'tanh', 'layer_2_activation': 'relu', 'layer_3_activation': 'tanh', 'layer_4_activation': 'relu', 'layer_5_activation': 'silu', 'layer_6_activation': 'relu', 'layer_7_activation': 'silu', 'layer_8_activation': 'tanh', 'layer_9_activation': 'relu', 'learning_rate': 0.00018410422398167824, 'weight_decay': 2.18534670121101e-09, 'optimizer': 'RMSprop', 'num_epochs': 17768, 'batch_size': 1, 'taxa de aceleração': 1}. Best is trial 5 with value: 1.5452192139980156e-05.\u001b[0m\n"
          ]
        },
        {
          "name": "stdout",
          "output_type": "stream",
          "text": [
            "Epoch 1000, Loss 0.026306852494553723\n",
            "Epoch 2000, Loss 0.02613151058538137\n",
            "Epoch 3000, Loss 0.02596715410534098\n",
            "Epoch 4000, Loss 0.02581309121557412\n",
            "Epoch 5000, Loss 0.025668674072950464\n",
            "Epoch 6000, Loss 0.025533295981708753\n",
            "Epoch 7000, Loss 0.025406388735494022\n",
            "Epoch 8000, Loss 0.025287420136424533\n",
            "Epoch 9000, Loss 0.0251758916786415\n",
            "Epoch 10000, Loss 0.025071336385046786\n",
            "Epoch 11000, Loss 0.024973316786502317\n",
            "Epoch 12000, Loss 0.024881423033721366\n",
            "Epoch 13000, Loss 0.02479527113276076\n"
          ]
        },
        {
          "name": "stderr",
          "output_type": "stream",
          "text": [
            "\u001b[32m[I 2023-10-10 01:16:55,013]\u001b[0m Trial 7 finished with value: 0.026840326161407576 and parameters: {'n_layers': 10, 'layer_0_size': 3, 'layer_1_size': 21, 'layer_2_size': 23, 'layer_3_size': 10, 'layer_4_size': 9, 'layer_5_size': 7, 'layer_6_size': 19, 'layer_7_size': 5, 'layer_8_size': 26, 'layer_9_size': 28, 'layer_0_activation': 'silu', 'layer_1_activation': 'relu', 'layer_2_activation': 'silu', 'layer_3_activation': 'silu', 'layer_4_activation': 'silu', 'layer_5_activation': 'tanh', 'layer_6_activation': 'tanh', 'layer_7_activation': 'silu', 'layer_8_activation': 'silu', 'layer_9_activation': 'tanh', 'learning_rate': 2.166748267895056e-05, 'weight_decay': 7.266077743494295e-07, 'optimizer': 'SGD', 'num_epochs': 13632, 'batch_size': 1, 'taxa de aceleração': 0.001}. Best is trial 5 with value: 1.5452192139980156e-05.\u001b[0m\n"
          ]
        },
        {
          "name": "stdout",
          "output_type": "stream",
          "text": [
            "Epoch 1000, Loss 0.0007060514027650481\n",
            "Epoch 2000, Loss 0.0007049116607902019\n",
            "Epoch 3000, Loss 0.000702462474613283\n",
            "Epoch 4000, Loss 0.0007012731405349601\n"
          ]
        },
        {
          "name": "stderr",
          "output_type": "stream",
          "text": [
            "\u001b[32m[I 2023-10-10 01:24:48,837]\u001b[0m Trial 8 finished with value: 0.013033178344868753 and parameters: {'n_layers': 6, 'layer_0_size': 15, 'layer_1_size': 8, 'layer_2_size': 9, 'layer_3_size': 6, 'layer_4_size': 2, 'layer_5_size': 14, 'layer_0_activation': 'tanh', 'layer_1_activation': 'silu', 'layer_2_activation': 'tanh', 'layer_3_activation': 'tanh', 'layer_4_activation': 'tanh', 'layer_5_activation': 'relu', 'learning_rate': 6.540831151766023e-05, 'weight_decay': 5.160037054506714e-08, 'optimizer': 'Adamax', 'num_epochs': 4736, 'batch_size': 8, 'taxa de aceleração': 0.001}. Best is trial 5 with value: 1.5452192139980156e-05.\u001b[0m\n"
          ]
        },
        {
          "name": "stdout",
          "output_type": "stream",
          "text": [
            "Epoch 1000, Loss 0.00018495355183334244\n",
            "Epoch 2000, Loss 9.856796391242626e-05\n",
            "Epoch 3000, Loss 0.0001457293509926021\n",
            "Epoch 4000, Loss 6.0107101456185805e-05\n",
            "Epoch 5000, Loss 6.430742740614713e-05\n",
            "Epoch 6000, Loss 4.6364679695662037e-05\n",
            "Epoch 7000, Loss 4.224295996860427e-05\n",
            "Epoch 8000, Loss 4.7663040545349095e-05\n",
            "Epoch 9000, Loss 4.102963621985756e-05\n",
            "Epoch 10000, Loss 3.2345255461519807e-05\n",
            "Epoch 11000, Loss 1.8475730671788165e-05\n",
            "Epoch 12000, Loss 1.569483509290178e-05\n",
            "Epoch 13000, Loss 2.0597056383569993e-05\n",
            "Epoch 14000, Loss 3.58942243750967e-05\n",
            "Epoch 15000, Loss 2.0735520762768734e-05\n"
          ]
        },
        {
          "name": "stderr",
          "output_type": "stream",
          "text": [
            "\u001b[32m[I 2023-10-10 01:32:05,915]\u001b[0m Trial 9 finished with value: 0.001150085733773785 and parameters: {'n_layers': 3, 'layer_0_size': 20, 'layer_1_size': 5, 'layer_2_size': 1, 'layer_0_activation': 'tanh', 'layer_1_activation': 'silu', 'layer_2_activation': 'tanh', 'learning_rate': 0.006478626285910495, 'weight_decay': 2.501187519166048e-05, 'optimizer': 'RMSprop', 'num_epochs': 15153, 'batch_size': 3, 'taxa de aceleração': 0.001}. Best is trial 5 with value: 1.5452192139980156e-05.\u001b[0m\n"
          ]
        },
        {
          "name": "stdout",
          "output_type": "stream",
          "text": [
            "Epoch 1000, Loss 0.7538829262673711\n",
            "Epoch 2000, Loss 0.8002515353065028\n",
            "Epoch 3000, Loss 0.7565538929110169\n",
            "Epoch 4000, Loss 2.099398457768182\n",
            "Epoch 5000, Loss 2.0993991577318787\n",
            "Epoch 6000, Loss 2.0993991577319413\n",
            "Epoch 7000, Loss 2.0993993063157834\n",
            "Epoch 8000, Loss 2.099399157731896\n",
            "Epoch 9000, Loss 2.099399157732077\n",
            "Epoch 10000, Loss 2.0993991577352213\n",
            "Epoch 11000, Loss 2.099399157739031\n",
            "Epoch 12000, Loss 2.0993991577415256\n",
            "Epoch 13000, Loss 2.0993991577414337\n",
            "Epoch 14000, Loss 2.0993991577414497\n",
            "Epoch 15000, Loss 2.0993991577414413\n",
            "Epoch 16000, Loss 2.0993991577414173\n",
            "Epoch 17000, Loss 2.0993991577414235\n",
            "Epoch 18000, Loss 2.099399157741419\n",
            "Epoch 19000, Loss 2.099399157741419\n",
            "Epoch 20000, Loss 2.099399157741438\n",
            "Epoch 21000, Loss 2.0993991577414164\n",
            "Epoch 22000, Loss 2.0993991577414466\n",
            "Epoch 23000, Loss 2.0993991577414395\n",
            "Epoch 24000, Loss 2.099399157741419\n",
            "Epoch 25000, Loss 2.099399157741426\n",
            "Epoch 26000, Loss 2.0993991577414235\n",
            "Epoch 27000, Loss 2.0993991577414164\n"
          ]
        },
        {
          "name": "stderr",
          "output_type": "stream",
          "text": [
            "\u001b[32m[I 2023-10-10 02:23:02,249]\u001b[0m Trial 10 finished with value: 0.49723748798142414 and parameters: {'n_layers': 8, 'layer_0_size': 9, 'layer_1_size': 30, 'layer_2_size': 16, 'layer_3_size': 25, 'layer_4_size': 18, 'layer_5_size': 30, 'layer_6_size': 10, 'layer_7_size': 30, 'layer_0_activation': 'relu', 'layer_1_activation': 'silu', 'layer_2_activation': 'silu', 'layer_3_activation': 'relu', 'layer_4_activation': 'tanh', 'layer_5_activation': 'silu', 'layer_6_activation': 'silu', 'layer_7_activation': 'tanh', 'learning_rate': 0.08473869994801203, 'weight_decay': 2.1015828979257312e-10, 'optimizer': 'Adam', 'num_epochs': 27825, 'batch_size': 7, 'taxa de aceleração': 1}. Best is trial 5 with value: 1.5452192139980156e-05.\u001b[0m\n"
          ]
        },
        {
          "name": "stdout",
          "output_type": "stream",
          "text": [
            "Epoch 1000, Loss 0.0006553172037018809\n",
            "Epoch 2000, Loss 0.0006553599253160175\n",
            "Epoch 3000, Loss 0.0006553151069131136\n",
            "Epoch 4000, Loss 0.0006554071098476085\n",
            "Epoch 5000, Loss 0.0006553016631931775\n",
            "Epoch 6000, Loss 0.0006552972080521511\n"
          ]
        },
        {
          "name": "stderr",
          "output_type": "stream",
          "text": [
            "\u001b[32m[I 2023-10-10 02:27:36,094]\u001b[0m Trial 11 finished with value: 0.011131616034687854 and parameters: {'n_layers': 1, 'layer_0_size': 30, 'layer_0_activation': 'silu', 'learning_rate': 0.02174786751841193, 'weight_decay': 0.0005549701443932939, 'optimizer': 'Adamax', 'num_epochs': 6229, 'batch_size': 8, 'taxa de aceleração': 0.001}. Best is trial 5 with value: 1.5452192139980156e-05.\u001b[0m\n"
          ]
        },
        {
          "name": "stdout",
          "output_type": "stream",
          "text": [
            "Epoch 1000, Loss 0.00010121487072215999\n",
            "Epoch 2000, Loss 0.0017943782884852094\n",
            "Epoch 3000, Loss 0.0026098801192325095\n",
            "Epoch 4000, Loss 0.0015603664912394112\n",
            "Epoch 5000, Loss 0.0014808581124096955\n",
            "Epoch 6000, Loss 0.0017384381951449674\n",
            "Epoch 7000, Loss 0.001938764214923157\n",
            "Epoch 8000, Loss 0.002042899948249223\n",
            "Epoch 9000, Loss 0.0017957254950430497\n",
            "Epoch 10000, Loss 0.001792581592174856\n",
            "Epoch 11000, Loss 0.0009798593741418365\n",
            "Epoch 12000, Loss 0.0024181416647081856\n",
            "Epoch 13000, Loss 0.001229329014438498\n",
            "Epoch 14000, Loss 0.0015178790809575863\n",
            "Epoch 15000, Loss 0.0017268045140584804\n",
            "Epoch 16000, Loss 0.0011123247130773927\n",
            "Epoch 17000, Loss 0.0011508062012814246\n",
            "Epoch 18000, Loss 0.0015920245604122655\n",
            "Epoch 19000, Loss 0.0014268616302167345\n",
            "Epoch 20000, Loss 0.0012384118094401163\n",
            "Epoch 21000, Loss 0.0010551912873221726\n",
            "Epoch 22000, Loss 0.001299930132047815\n",
            "Epoch 23000, Loss 0.0019097968895007522\n",
            "Epoch 24000, Loss 0.0008672289866846091\n",
            "Epoch 25000, Loss 0.001972442268120861\n",
            "Epoch 26000, Loss 0.0023804015204859147\n",
            "Epoch 27000, Loss 0.0015622134960441415\n",
            "Epoch 28000, Loss 0.0009489549171937822\n",
            "Epoch 29000, Loss 0.0014941845414396387\n"
          ]
        },
        {
          "name": "stderr",
          "output_type": "stream",
          "text": [
            "\u001b[32m[I 2023-10-10 03:17:24,247]\u001b[0m Trial 12 finished with value: 0.00222291300756396 and parameters: {'n_layers': 5, 'layer_0_size': 20, 'layer_1_size': 17, 'layer_2_size': 10, 'layer_3_size': 15, 'layer_4_size': 26, 'layer_0_activation': 'silu', 'layer_1_activation': 'tanh', 'layer_2_activation': 'silu', 'layer_3_activation': 'relu', 'layer_4_activation': 'silu', 'learning_rate': 0.006017560270461745, 'weight_decay': 1.1150374656877153e-07, 'optimizer': 'Adamax', 'num_epochs': 29927, 'batch_size': 10, 'taxa de aceleração': 0.001}. Best is trial 5 with value: 1.5452192139980156e-05.\u001b[0m\n"
          ]
        },
        {
          "name": "stdout",
          "output_type": "stream",
          "text": [
            "Epoch 1000, Loss 0.04951491181224789\n",
            "Epoch 2000, Loss 0.011616393503842276\n",
            "Epoch 3000, Loss 0.012440335680363929\n",
            "Epoch 4000, Loss 0.042645425162255474\n",
            "Epoch 5000, Loss 0.03012878651257927\n",
            "Epoch 6000, Loss 0.017164475376098054\n",
            "Epoch 7000, Loss 0.02056754988189489\n",
            "Epoch 8000, Loss 0.002736615404262034\n",
            "Epoch 9000, Loss 0.00727458977421582\n"
          ]
        },
        {
          "name": "stderr",
          "output_type": "stream",
          "text": [
            "\u001b[32m[I 2023-10-10 03:28:21,431]\u001b[0m Trial 13 finished with value: 0.00024325772329464326 and parameters: {'n_layers': 5, 'layer_0_size': 20, 'layer_1_size': 23, 'layer_2_size': 2, 'layer_3_size': 1, 'layer_4_size': 15, 'layer_0_activation': 'silu', 'layer_1_activation': 'silu', 'layer_2_activation': 'silu', 'layer_3_activation': 'tanh', 'layer_4_activation': 'tanh', 'learning_rate': 0.06473569883373693, 'weight_decay': 2.0176445370710915e-08, 'optimizer': 'Adamax', 'num_epochs': 9449, 'batch_size': 6, 'taxa de aceleração': 1}. Best is trial 5 with value: 1.5452192139980156e-05.\u001b[0m\n"
          ]
        },
        {
          "name": "stdout",
          "output_type": "stream",
          "text": [
            "Epoch 1000, Loss 0.0006815920627558742\n",
            "Epoch 2000, Loss 0.023644222580094236\n",
            "Epoch 3000, Loss 0.0013399397911046625\n",
            "Epoch 4000, Loss 0.017948867541318917\n",
            "Epoch 5000, Loss 0.0007760294784473149\n",
            "Epoch 6000, Loss 0.0007080997630787927\n",
            "Epoch 7000, Loss 0.0014632630853430246\n",
            "Epoch 8000, Loss 0.0007900792403876078\n",
            "Epoch 9000, Loss 0.0011920946073284804\n",
            "Epoch 10000, Loss 0.0008244773673311192\n",
            "Epoch 11000, Loss 0.000783513778318242\n",
            "Epoch 12000, Loss 0.00042304821650629995\n",
            "Epoch 13000, Loss 0.0001075604571670344\n",
            "Epoch 14000, Loss 0.0011115408992672634\n",
            "Epoch 15000, Loss 0.0005060862533587168\n",
            "Epoch 16000, Loss 0.0009186154683890788\n",
            "Epoch 17000, Loss 0.0007459404820363225\n",
            "Epoch 18000, Loss 0.0019321957949321187\n",
            "Epoch 19000, Loss 0.0008503532074052481\n",
            "Epoch 20000, Loss 0.00032077190724302004\n",
            "Epoch 21000, Loss 0.0013784080942343066\n",
            "Epoch 22000, Loss 0.0003295540387191776\n",
            "Epoch 23000, Loss 0.00023838621864726652\n"
          ]
        },
        {
          "name": "stderr",
          "output_type": "stream",
          "text": [
            "\u001b[32m[I 2023-10-10 04:17:11,597]\u001b[0m Trial 14 finished with value: 0.0006269268612372551 and parameters: {'n_layers': 8, 'layer_0_size': 23, 'layer_1_size': 13, 'layer_2_size': 12, 'layer_3_size': 21, 'layer_4_size': 13, 'layer_5_size': 28, 'layer_6_size': 12, 'layer_7_size': 4, 'layer_0_activation': 'silu', 'layer_1_activation': 'silu', 'layer_2_activation': 'silu', 'layer_3_activation': 'tanh', 'layer_4_activation': 'tanh', 'layer_5_activation': 'silu', 'layer_6_activation': 'relu', 'layer_7_activation': 'silu', 'learning_rate': 0.009590330130500138, 'weight_decay': 1.0075322478155533e-09, 'optimizer': 'Adamax', 'num_epochs': 23941, 'batch_size': 8, 'taxa de aceleração': 0.001}. Best is trial 5 with value: 1.5452192139980156e-05.\u001b[0m\n",
            "\u001b[32m[I 2023-10-10 04:17:15,341]\u001b[0m Trial 15 finished with value: 0.0036934101633142005 and parameters: {'n_layers': 1, 'layer_0_size': 17, 'layer_0_activation': 'silu', 'learning_rate': 0.02345373991832627, 'weight_decay': 1.3977076368929504e-08, 'optimizer': 'Adam', 'num_epochs': 71, 'batch_size': 9, 'taxa de aceleração': 1}. Best is trial 5 with value: 1.5452192139980156e-05.\u001b[0m\n"
          ]
        },
        {
          "name": "stdout",
          "output_type": "stream",
          "text": [
            "Epoch 1000, Loss 0.5375456333219208\n",
            "Epoch 2000, Loss 0.44366845056917903\n",
            "Epoch 3000, Loss 0.5525472323855132\n",
            "Epoch 4000, Loss 0.529711262402125\n",
            "Epoch 5000, Loss 0.4262025511051206\n",
            "Epoch 6000, Loss 0.5788047629858586\n",
            "Epoch 7000, Loss 0.558847990359618\n",
            "Epoch 8000, Loss 0.44782728418356854\n",
            "Epoch 9000, Loss 0.4487970547843712\n",
            "Epoch 10000, Loss 0.36611329670850207\n",
            "Epoch 11000, Loss 0.4319470978808243\n",
            "Epoch 12000, Loss 0.5485828879570298\n",
            "Epoch 13000, Loss 0.6524315366772513\n",
            "Epoch 14000, Loss 0.5558218309364997\n",
            "Epoch 15000, Loss 0.4786145480153735\n",
            "Epoch 16000, Loss 0.4299158215961033\n",
            "Epoch 17000, Loss 0.4667585291442594\n"
          ]
        },
        {
          "name": "stderr",
          "output_type": "stream",
          "text": [
            "\u001b[32m[I 2023-10-10 04:35:40,799]\u001b[0m Trial 16 finished with value: 0.007118614107817606 and parameters: {'n_layers': 4, 'layer_0_size': 9, 'layer_1_size': 20, 'layer_2_size': 6, 'layer_3_size': 30, 'layer_0_activation': 'silu', 'layer_1_activation': 'tanh', 'layer_2_activation': 'relu', 'layer_3_activation': 'relu', 'learning_rate': 0.002418907752804123, 'weight_decay': 1.6925756533023867e-07, 'optimizer': 'Adamax', 'num_epochs': 17445, 'batch_size': 6, 'taxa de aceleração': 1}. Best is trial 5 with value: 1.5452192139980156e-05.\u001b[0m\n"
          ]
        },
        {
          "name": "stdout",
          "output_type": "stream",
          "text": [
            "Epoch 1000, Loss 0.00070272646986274\n",
            "Epoch 2000, Loss 0.0007028590909815678\n",
            "Epoch 3000, Loss 0.0007025488771739458\n",
            "Epoch 4000, Loss 0.0007028061336486523\n",
            "Epoch 5000, Loss 0.0007026404682196813\n",
            "Epoch 6000, Loss 0.0007026006844779258\n",
            "Epoch 7000, Loss 0.00040821811507649885\n",
            "Epoch 8000, Loss 0.0006994038337718935\n",
            "Epoch 9000, Loss 0.0007017265068982886\n",
            "Epoch 10000, Loss 0.0007012626826376619\n",
            "Epoch 11000, Loss 0.0007089924132403006\n",
            "Epoch 12000, Loss 0.0007035147832079244\n",
            "Epoch 13000, Loss 0.0006875338952637277\n",
            "Epoch 14000, Loss 0.0007288245696652402\n",
            "Epoch 15000, Loss 0.0001809044176532409\n",
            "Epoch 16000, Loss 0.00041567741702813244\n",
            "Epoch 17000, Loss 0.0006315384222487865\n",
            "Epoch 18000, Loss 0.0005807025559125641\n",
            "Epoch 19000, Loss 0.0006152861564395071\n",
            "Epoch 20000, Loss 0.00025880003407159255\n",
            "Epoch 21000, Loss 0.0007592791554361013\n",
            "Epoch 22000, Loss 0.0006871128523031093\n",
            "Epoch 23000, Loss 0.0007084243535075771\n",
            "Epoch 24000, Loss 0.0006953099432294495\n",
            "Epoch 25000, Loss 0.0007069611044553685\n"
          ]
        },
        {
          "name": "stderr",
          "output_type": "stream",
          "text": [
            "\u001b[32m[I 2023-10-10 05:34:46,937]\u001b[0m Trial 17 finished with value: 0.02753680562064547 and parameters: {'n_layers': 8, 'layer_0_size': 30, 'layer_1_size': 26, 'layer_2_size': 14, 'layer_3_size': 15, 'layer_4_size': 30, 'layer_5_size': 1, 'layer_6_size': 29, 'layer_7_size': 24, 'layer_0_activation': 'relu', 'layer_1_activation': 'silu', 'layer_2_activation': 'tanh', 'layer_3_activation': 'silu', 'layer_4_activation': 'relu', 'layer_5_activation': 'relu', 'layer_6_activation': 'tanh', 'layer_7_activation': 'tanh', 'learning_rate': 0.03423225229625979, 'weight_decay': 1.410752740444408e-10, 'optimizer': 'Adamax', 'num_epochs': 25786, 'batch_size': 9, 'taxa de aceleração': 0.001}. Best is trial 5 with value: 1.5452192139980156e-05.\u001b[0m\n"
          ]
        },
        {
          "name": "stdout",
          "output_type": "stream",
          "text": [
            "Epoch 1000, Loss 7.32960591841089e-05\n",
            "Epoch 2000, Loss 8.185880309221198e-05\n",
            "Epoch 3000, Loss 0.00011230344692806392\n",
            "Epoch 4000, Loss 5.878756319049003e-05\n",
            "Epoch 5000, Loss 6.401685017546003e-05\n",
            "Epoch 6000, Loss 8.912268930880116e-05\n",
            "Epoch 7000, Loss 0.00015662246440349166\n",
            "Epoch 8000, Loss 6.171697526551929e-05\n",
            "Epoch 9000, Loss 8.824530750986368e-05\n",
            "Epoch 10000, Loss 3.504405292430457e-05\n",
            "Epoch 11000, Loss 1.0262144152179245e-05\n",
            "Epoch 12000, Loss 6.369375613091926e-05\n",
            "Epoch 13000, Loss 4.262579782163454e-05\n",
            "Epoch 14000, Loss 2.412073478434925e-05\n",
            "Epoch 15000, Loss 1.8406822377417385e-05\n",
            "Epoch 16000, Loss 5.0201830034620506e-05\n",
            "Epoch 17000, Loss 3.1795250170840684e-05\n",
            "Epoch 18000, Loss 2.6269912484165466e-05\n",
            "Epoch 19000, Loss 4.996463237493486e-05\n"
          ]
        },
        {
          "name": "stderr",
          "output_type": "stream",
          "text": [
            "\u001b[32m[I 2023-10-10 05:45:24,921]\u001b[0m Trial 18 finished with value: 0.00011647569505542727 and parameters: {'n_layers': 2, 'layer_0_size': 25, 'layer_1_size': 18, 'layer_0_activation': 'silu', 'layer_1_activation': 'tanh', 'learning_rate': 0.08359475355748336, 'weight_decay': 3.3178359158593916e-08, 'optimizer': 'Adamax', 'num_epochs': 19027, 'batch_size': 5, 'taxa de aceleração': 0.001}. Best is trial 5 with value: 1.5452192139980156e-05.\u001b[0m\n"
          ]
        },
        {
          "name": "stdout",
          "output_type": "stream",
          "text": [
            "Epoch 1000, Loss 4.576828605615805\n",
            "Epoch 2000, Loss 4.5771567065044305\n",
            "Epoch 3000, Loss 4.578826453944049\n",
            "Epoch 4000, Loss 4.578878972348495\n",
            "Epoch 5000, Loss 4.578879061154242\n",
            "Epoch 6000, Loss 4.5788790612991805\n",
            "Epoch 7000, Loss 4.576849794672619\n",
            "Epoch 8000, Loss 4.576811240655668\n",
            "Epoch 9000, Loss 4.576816233928301\n",
            "Epoch 10000, Loss 4.5769588189760935\n",
            "Epoch 11000, Loss 4.578592748336375\n",
            "Epoch 12000, Loss 4.578878486380949\n",
            "Epoch 13000, Loss 4.576820612751739\n",
            "Epoch 14000, Loss 4.577025260464694\n",
            "Epoch 15000, Loss 4.577680226238902\n",
            "Epoch 16000, Loss 4.5766189968339965\n",
            "Epoch 17000, Loss 4.576853697809416\n",
            "Epoch 18000, Loss 23.696953524190256\n",
            "Epoch 19000, Loss 4.576819662345539\n"
          ]
        },
        {
          "name": "stderr",
          "output_type": "stream",
          "text": [
            "\u001b[32m[I 2023-10-10 06:06:36,894]\u001b[0m Trial 19 finished with value: 0.024624470321829902 and parameters: {'n_layers': 7, 'layer_0_size': 17, 'layer_1_size': 13, 'layer_2_size': 20, 'layer_3_size': 24, 'layer_4_size': 19, 'layer_5_size': 22, 'layer_6_size': 8, 'layer_0_activation': 'silu', 'layer_1_activation': 'silu', 'layer_2_activation': 'silu', 'layer_3_activation': 'tanh', 'layer_4_activation': 'silu', 'layer_5_activation': 'silu', 'layer_6_activation': 'silu', 'learning_rate': 0.060940491905299245, 'weight_decay': 8.484784554429876e-09, 'optimizer': 'Adam', 'num_epochs': 19146, 'batch_size': 5, 'taxa de aceleração': 1}. Best is trial 5 with value: 1.5452192139980156e-05.\u001b[0m\n"
          ]
        },
        {
          "name": "stdout",
          "output_type": "stream",
          "text": [
            "Epoch 1000, Loss 0.004576461257293602\n",
            "Epoch 2000, Loss 0.00457616852864243\n",
            "Epoch 3000, Loss 0.004575871257040272\n",
            "Epoch 4000, Loss 0.004575567963245746\n",
            "Epoch 5000, Loss 0.0045752570586677106\n",
            "Epoch 6000, Loss 0.004574936855202937\n",
            "Epoch 7000, Loss 0.004574605541353273\n",
            "Epoch 8000, Loss 0.004574261147324199\n",
            "Epoch 9000, Loss 0.004573901519953347\n",
            "Epoch 10000, Loss 0.004573524284550761\n",
            "Epoch 11000, Loss 0.0045731268002430405\n",
            "Epoch 12000, Loss 0.004572706107945627\n",
            "Epoch 13000, Loss 0.004572258867922971\n",
            "Epoch 14000, Loss 0.004571781284512387\n",
            "Epoch 15000, Loss 0.0045712690142921415\n",
            "Epoch 16000, Loss 0.004570717053446101\n",
            "Epoch 17000, Loss 0.004570127657851067\n",
            "Epoch 18000, Loss 0.00456949241977155\n",
            "Epoch 19000, Loss 0.004568808997634988\n",
            "Epoch 20000, Loss 0.00456805156426049\n",
            "Epoch 21000, Loss 0.00456721822227918\n",
            "Epoch 22000, Loss 0.004566296870692722\n",
            "Epoch 23000, Loss 0.004565273397449774\n",
            "Epoch 24000, Loss 0.004564128810543313\n",
            "Epoch 25000, Loss 0.004562841941168499\n"
          ]
        },
        {
          "name": "stderr",
          "output_type": "stream",
          "text": [
            "\u001b[32m[I 2023-10-10 06:36:37,883]\u001b[0m Trial 20 finished with value: 0.024508856191699277 and parameters: {'n_layers': 9, 'layer_0_size': 12, 'layer_1_size': 26, 'layer_2_size': 7, 'layer_3_size': 10, 'layer_4_size': 12, 'layer_5_size': 23, 'layer_6_size': 17, 'layer_7_size': 11, 'layer_8_size': 3, 'layer_0_activation': 'relu', 'layer_1_activation': 'tanh', 'layer_2_activation': 'silu', 'layer_3_activation': 'tanh', 'layer_4_activation': 'tanh', 'layer_5_activation': 'silu', 'layer_6_activation': 'silu', 'layer_7_activation': 'relu', 'layer_8_activation': 'relu', 'learning_rate': 0.013338063725989878, 'weight_decay': 6.897763150753544e-10, 'optimizer': 'SGD', 'num_epochs': 25619, 'batch_size': 5, 'taxa de aceleração': 0.001}. Best is trial 5 with value: 1.5452192139980156e-05.\u001b[0m\n"
          ]
        },
        {
          "name": "stdout",
          "output_type": "stream",
          "text": [
            "Epoch 1000, Loss 1.2860697782578631e-05\n",
            "Epoch 2000, Loss 3.832224764920189e-05\n",
            "Epoch 3000, Loss 2.8371138836933347e-05\n",
            "Epoch 4000, Loss 2.0017355297330764e-06\n",
            "Epoch 5000, Loss 1.4774845988824012e-05\n",
            "Epoch 6000, Loss 2.3684052994640694e-05\n",
            "Epoch 7000, Loss 2.1871028970094086e-05\n",
            "Epoch 8000, Loss 6.859571284088254e-06\n",
            "Epoch 9000, Loss 2.157629022289661e-05\n",
            "Epoch 10000, Loss 2.6904294496878268e-05\n",
            "Epoch 11000, Loss 2.0048745355354377e-05\n"
          ]
        },
        {
          "name": "stderr",
          "output_type": "stream",
          "text": [
            "\u001b[32m[I 2023-10-10 06:45:56,568]\u001b[0m Trial 21 finished with value: 6.832425588421749e-05 and parameters: {'n_layers': 2, 'layer_0_size': 25, 'layer_1_size': 19, 'layer_0_activation': 'silu', 'layer_1_activation': 'tanh', 'learning_rate': 0.0990145556651336, 'weight_decay': 6.225464191002953e-08, 'optimizer': 'Adamax', 'num_epochs': 11113, 'batch_size': 7, 'taxa de aceleração': 0.001}. Best is trial 5 with value: 1.5452192139980156e-05.\u001b[0m\n"
          ]
        },
        {
          "name": "stdout",
          "output_type": "stream",
          "text": [
            "Epoch 1000, Loss 8.461507546610509e-05\n",
            "Epoch 2000, Loss 6.650244498898027e-05\n",
            "Epoch 3000, Loss 4.956201253892489e-05\n",
            "Epoch 4000, Loss 4.5573755246230896e-05\n",
            "Epoch 5000, Loss 9.858791157652443e-05\n",
            "Epoch 6000, Loss 0.00010816096193417668\n",
            "Epoch 7000, Loss 5.701821783545395e-05\n",
            "Epoch 8000, Loss 4.77803579419623e-05\n",
            "Epoch 9000, Loss 4.4891438204662316e-05\n",
            "Epoch 10000, Loss 3.846175153032651e-05\n"
          ]
        },
        {
          "name": "stderr",
          "output_type": "stream",
          "text": [
            "\u001b[32m[I 2023-10-10 06:52:51,719]\u001b[0m Trial 22 finished with value: 0.0008289900548574103 and parameters: {'n_layers': 1, 'layer_0_size': 27, 'layer_0_activation': 'silu', 'learning_rate': 0.09840216932228199, 'weight_decay': 3.404474738586482e-08, 'optimizer': 'Adamax', 'num_epochs': 10783, 'batch_size': 7, 'taxa de aceleração': 0.001}. Best is trial 5 with value: 1.5452192139980156e-05.\u001b[0m\n"
          ]
        },
        {
          "name": "stdout",
          "output_type": "stream",
          "text": [
            "Epoch 1000, Loss 1.890992258458502e-05\n",
            "Epoch 2000, Loss 2.391815670182496e-05\n",
            "Epoch 3000, Loss 3.827746734581129e-06\n",
            "Epoch 4000, Loss 2.440803131555295e-05\n",
            "Epoch 5000, Loss 1.8876896500645652e-06\n",
            "Epoch 6000, Loss 1.997243429557632e-05\n",
            "Epoch 7000, Loss 7.718772595010242e-06\n",
            "Epoch 8000, Loss 1.3975997944166853e-05\n",
            "Epoch 9000, Loss 3.4541999075336485e-05\n",
            "Epoch 10000, Loss 1.92985967815899e-05\n",
            "Epoch 11000, Loss 1.122605797347753e-05\n",
            "Epoch 12000, Loss 1.1994246874784285e-05\n",
            "Epoch 13000, Loss 8.438906491644871e-06\n",
            "Epoch 14000, Loss 1.7427466179896943e-06\n",
            "Epoch 15000, Loss 5.983241897746946e-06\n",
            "Epoch 16000, Loss 2.9711816563521607e-06\n",
            "Epoch 17000, Loss 5.45120738587688e-06\n",
            "Epoch 18000, Loss 1.5696557333925305e-05\n",
            "Epoch 19000, Loss 1.862442750379072e-06\n",
            "Epoch 20000, Loss 1.7901255214627773e-06\n"
          ]
        },
        {
          "name": "stderr",
          "output_type": "stream",
          "text": [
            "\u001b[32m[I 2023-10-10 07:10:09,160]\u001b[0m Trial 23 finished with value: 3.6281643048096787e-05 and parameters: {'n_layers': 2, 'layer_0_size': 22, 'layer_1_size': 14, 'layer_0_activation': 'silu', 'layer_1_activation': 'tanh', 'learning_rate': 0.04061076550266349, 'weight_decay': 3.8174604717512865e-09, 'optimizer': 'Adamax', 'num_epochs': 20866, 'batch_size': 7, 'taxa de aceleração': 0.001}. Best is trial 5 with value: 1.5452192139980156e-05.\u001b[0m\n"
          ]
        },
        {
          "name": "stdout",
          "output_type": "stream",
          "text": [
            "Epoch 1000, Loss 1.1114657276742325e-05\n",
            "Epoch 2000, Loss 2.239866054602736e-06\n",
            "Epoch 3000, Loss 3.354300270875637e-06\n",
            "Epoch 4000, Loss 1.5673599937774825e-06\n",
            "Epoch 5000, Loss 3.653134253261806e-08\n",
            "Epoch 6000, Loss 2.3666654136754566e-08\n",
            "Epoch 7000, Loss 8.151293560634949e-07\n",
            "Epoch 8000, Loss 3.623130732214781e-06\n",
            "Epoch 9000, Loss 8.426212801493546e-08\n",
            "Epoch 10000, Loss 2.4166701431898394e-06\n",
            "Epoch 11000, Loss 6.803139877793247e-06\n",
            "Epoch 12000, Loss 1.3647925378740944e-06\n",
            "Epoch 13000, Loss 4.766800406623685e-07\n",
            "Epoch 14000, Loss 2.491193850150549e-07\n",
            "Epoch 15000, Loss 2.0803621502391586e-06\n",
            "Epoch 16000, Loss 1.790333451390372e-06\n"
          ]
        },
        {
          "name": "stderr",
          "output_type": "stream",
          "text": [
            "\u001b[32m[I 2023-10-10 07:23:29,289]\u001b[0m Trial 24 finished with value: 1.8916523521346913e-05 and parameters: {'n_layers': 2, 'layer_0_size': 22, 'layer_1_size': 13, 'layer_0_activation': 'silu', 'layer_1_activation': 'tanh', 'learning_rate': 0.016540731032038302, 'weight_decay': 6.119181583553593e-09, 'optimizer': 'Adamax', 'num_epochs': 16027, 'batch_size': 7, 'taxa de aceleração': 0.001}. Best is trial 5 with value: 1.5452192139980156e-05.\u001b[0m\n"
          ]
        },
        {
          "name": "stdout",
          "output_type": "stream",
          "text": [
            "Epoch 1000, Loss 0.00027655446814033724\n",
            "Epoch 2000, Loss 0.0002585095852318205\n",
            "Epoch 3000, Loss 0.00015898052100055387\n",
            "Epoch 4000, Loss 0.00022378348603268035\n",
            "Epoch 5000, Loss 0.00034703231892239093\n",
            "Epoch 6000, Loss 0.0003734900853051981\n",
            "Epoch 7000, Loss 0.00029356418796460147\n",
            "Epoch 8000, Loss 0.00019636349021623595\n",
            "Epoch 9000, Loss 0.00013971685096682328\n",
            "Epoch 10000, Loss 0.00010319802178673401\n",
            "Epoch 11000, Loss 0.00014339106122717975\n",
            "Epoch 12000, Loss 0.00019449680188486973\n",
            "Epoch 13000, Loss 0.00022761562462960666\n",
            "Epoch 14000, Loss 0.00015686956334191128\n",
            "Epoch 15000, Loss 0.00012354469157277803\n"
          ]
        },
        {
          "name": "stderr",
          "output_type": "stream",
          "text": [
            "\u001b[32m[I 2023-10-10 07:45:50,308]\u001b[0m Trial 25 finished with value: 0.006392606001668153 and parameters: {'n_layers': 4, 'layer_0_size': 22, 'layer_1_size': 13, 'layer_2_size': 3, 'layer_3_size': 19, 'layer_0_activation': 'silu', 'layer_1_activation': 'tanh', 'layer_2_activation': 'relu', 'layer_3_activation': 'relu', 'learning_rate': 0.003392667115803635, 'weight_decay': 4.168253129746644e-09, 'optimizer': 'Adamax', 'num_epochs': 15796, 'batch_size': 9, 'taxa de aceleração': 0.001}. Best is trial 5 with value: 1.5452192139980156e-05.\u001b[0m\n"
          ]
        },
        {
          "name": "stdout",
          "output_type": "stream",
          "text": [
            "Epoch 1000, Loss 0.15440474269065885\n",
            "Epoch 2000, Loss 0.15145002903741653\n",
            "Epoch 3000, Loss 0.33339250003748977\n",
            "Epoch 4000, Loss 0.23975158664298263\n",
            "Epoch 5000, Loss 0.08382940513445919\n",
            "Epoch 6000, Loss 0.1273777601490919\n",
            "Epoch 7000, Loss 0.31074304408523434\n",
            "Epoch 8000, Loss 0.341131273197473\n",
            "Epoch 9000, Loss 0.3024816932303849\n",
            "Epoch 10000, Loss 0.38373542167039826\n",
            "Epoch 11000, Loss 0.2765219950379084\n",
            "Epoch 12000, Loss 0.5955568718135957\n",
            "Epoch 13000, Loss 0.5897504088467291\n",
            "Epoch 14000, Loss 0.14464573726004612\n",
            "Epoch 15000, Loss 0.17077170884482762\n",
            "Epoch 16000, Loss 0.34333776491444173\n"
          ]
        },
        {
          "name": "stderr",
          "output_type": "stream",
          "text": [
            "\u001b[33m[W 2023-10-10 18:35:25,207]\u001b[0m Trial 26 failed with parameters: {'n_layers': 2, 'layer_0_size': 18, 'layer_1_size': 11, 'layer_0_activation': 'silu', 'layer_1_activation': 'relu', 'learning_rate': 0.012764671817253846, 'weight_decay': 1.5572874928353188e-09, 'optimizer': 'Adamax', 'num_epochs': 21465, 'batch_size': 7, 'taxa de aceleração': 1} because of the following error: KeyboardInterrupt().\u001b[0m\n",
            "Traceback (most recent call last):\n",
            "  File \"/home/hudson/Unifei/TCC/codigos/EDPs_Neural_network/venv/lib/python3.9/site-packages/optuna/study/_optimize.py\", line 200, in _run_trial\n",
            "    value_or_values = func(trial)\n",
            "  File \"/tmp/ipykernel_654038/1511720781.py\", line 43, in objective\n",
            "    epochs_array, loss_array = net.fit(x=inp, epochs=num_epochs, nbatches=batch_size, output_loss=True)\n",
            "  File \"/home/hudson/Unifei/TCC/codigos/EDPs_Neural_network/Net/Net.py\", line 74, in fit\n",
            "    loss = self.loss(self.network, batch.to(self.__device))\n",
            "  File \"/home/hudson/Unifei/TCC/codigos/EDPs_Neural_network/venv/lib/python3.9/site-packages/torch/nn/modules/module.py\", line 1501, in _call_impl\n",
            "    return forward_call(*args, **kwargs)\n",
            "  File \"/home/hudson/Unifei/TCC/codigos/EDPs_Neural_network/Loss/Loss.py\", line 40, in forward\n",
            "    #   return 2-y\n",
            "KeyboardInterrupt\n",
            "\u001b[33m[W 2023-10-10 18:35:25,212]\u001b[0m Trial 26 failed with value None.\u001b[0m\n"
          ]
        },
        {
          "ename": "KeyboardInterrupt",
          "evalue": "",
          "output_type": "error",
          "traceback": [
            "\u001b[0;31m---------------------------------------------------------------------------\u001b[0m",
            "\u001b[0;31mKeyboardInterrupt\u001b[0m                         Traceback (most recent call last)",
            "\u001b[1;32m/home/hudson/Unifei/TCC/codigos/EDPs_Neural_network/MLP_GPU.ipynb Cell 25\u001b[0m line \u001b[0;36m2\n\u001b[1;32m      <a href='vscode-notebook-cell:/home/hudson/Unifei/TCC/codigos/EDPs_Neural_network/MLP_GPU.ipynb#Y123sZmlsZQ%3D%3D?line=0'>1</a>\u001b[0m \u001b[39mfor\u001b[39;00m i \u001b[39min\u001b[39;00m \u001b[39mrange\u001b[39m(\u001b[39m1000\u001b[39m):\n\u001b[0;32m----> <a href='vscode-notebook-cell:/home/hudson/Unifei/TCC/codigos/EDPs_Neural_network/MLP_GPU.ipynb#Y123sZmlsZQ%3D%3D?line=1'>2</a>\u001b[0m     study\u001b[39m.\u001b[39;49moptimize(objective, n_trials\u001b[39m=\u001b[39;49m\u001b[39m1\u001b[39;49m)\n\u001b[1;32m      <a href='vscode-notebook-cell:/home/hudson/Unifei/TCC/codigos/EDPs_Neural_network/MLP_GPU.ipynb#Y123sZmlsZQ%3D%3D?line=2'>3</a>\u001b[0m     joblib\u001b[39m.\u001b[39mdump(study, \u001b[39m'\u001b[39m\u001b[39mpickle_data/study.pkl\u001b[39m\u001b[39m'\u001b[39m)\n",
            "File \u001b[0;32m~/Unifei/TCC/codigos/EDPs_Neural_network/venv/lib/python3.9/site-packages/optuna/study/study.py:425\u001b[0m, in \u001b[0;36mStudy.optimize\u001b[0;34m(self, func, n_trials, timeout, n_jobs, catch, callbacks, gc_after_trial, show_progress_bar)\u001b[0m\n\u001b[1;32m    321\u001b[0m \u001b[39mdef\u001b[39;00m \u001b[39moptimize\u001b[39m(\n\u001b[1;32m    322\u001b[0m     \u001b[39mself\u001b[39m,\n\u001b[1;32m    323\u001b[0m     func: ObjectiveFuncType,\n\u001b[0;32m   (...)\u001b[0m\n\u001b[1;32m    330\u001b[0m     show_progress_bar: \u001b[39mbool\u001b[39m \u001b[39m=\u001b[39m \u001b[39mFalse\u001b[39;00m,\n\u001b[1;32m    331\u001b[0m ) \u001b[39m-\u001b[39m\u001b[39m>\u001b[39m \u001b[39mNone\u001b[39;00m:\n\u001b[1;32m    332\u001b[0m \u001b[39m    \u001b[39m\u001b[39m\"\"\"Optimize an objective function.\u001b[39;00m\n\u001b[1;32m    333\u001b[0m \n\u001b[1;32m    334\u001b[0m \u001b[39m    Optimization is done by choosing a suitable set of hyperparameter values from a given\u001b[39;00m\n\u001b[0;32m   (...)\u001b[0m\n\u001b[1;32m    422\u001b[0m \u001b[39m            If nested invocation of this method occurs.\u001b[39;00m\n\u001b[1;32m    423\u001b[0m \u001b[39m    \"\"\"\u001b[39;00m\n\u001b[0;32m--> 425\u001b[0m     _optimize(\n\u001b[1;32m    426\u001b[0m         study\u001b[39m=\u001b[39;49m\u001b[39mself\u001b[39;49m,\n\u001b[1;32m    427\u001b[0m         func\u001b[39m=\u001b[39;49mfunc,\n\u001b[1;32m    428\u001b[0m         n_trials\u001b[39m=\u001b[39;49mn_trials,\n\u001b[1;32m    429\u001b[0m         timeout\u001b[39m=\u001b[39;49mtimeout,\n\u001b[1;32m    430\u001b[0m         n_jobs\u001b[39m=\u001b[39;49mn_jobs,\n\u001b[1;32m    431\u001b[0m         catch\u001b[39m=\u001b[39;49m\u001b[39mtuple\u001b[39;49m(catch) \u001b[39mif\u001b[39;49;00m \u001b[39misinstance\u001b[39;49m(catch, Iterable) \u001b[39melse\u001b[39;49;00m (catch,),\n\u001b[1;32m    432\u001b[0m         callbacks\u001b[39m=\u001b[39;49mcallbacks,\n\u001b[1;32m    433\u001b[0m         gc_after_trial\u001b[39m=\u001b[39;49mgc_after_trial,\n\u001b[1;32m    434\u001b[0m         show_progress_bar\u001b[39m=\u001b[39;49mshow_progress_bar,\n\u001b[1;32m    435\u001b[0m     )\n",
            "File \u001b[0;32m~/Unifei/TCC/codigos/EDPs_Neural_network/venv/lib/python3.9/site-packages/optuna/study/_optimize.py:66\u001b[0m, in \u001b[0;36m_optimize\u001b[0;34m(study, func, n_trials, timeout, n_jobs, catch, callbacks, gc_after_trial, show_progress_bar)\u001b[0m\n\u001b[1;32m     64\u001b[0m \u001b[39mtry\u001b[39;00m:\n\u001b[1;32m     65\u001b[0m     \u001b[39mif\u001b[39;00m n_jobs \u001b[39m==\u001b[39m \u001b[39m1\u001b[39m:\n\u001b[0;32m---> 66\u001b[0m         _optimize_sequential(\n\u001b[1;32m     67\u001b[0m             study,\n\u001b[1;32m     68\u001b[0m             func,\n\u001b[1;32m     69\u001b[0m             n_trials,\n\u001b[1;32m     70\u001b[0m             timeout,\n\u001b[1;32m     71\u001b[0m             catch,\n\u001b[1;32m     72\u001b[0m             callbacks,\n\u001b[1;32m     73\u001b[0m             gc_after_trial,\n\u001b[1;32m     74\u001b[0m             reseed_sampler_rng\u001b[39m=\u001b[39;49m\u001b[39mFalse\u001b[39;49;00m,\n\u001b[1;32m     75\u001b[0m             time_start\u001b[39m=\u001b[39;49m\u001b[39mNone\u001b[39;49;00m,\n\u001b[1;32m     76\u001b[0m             progress_bar\u001b[39m=\u001b[39;49mprogress_bar,\n\u001b[1;32m     77\u001b[0m         )\n\u001b[1;32m     78\u001b[0m     \u001b[39melse\u001b[39;00m:\n\u001b[1;32m     79\u001b[0m         \u001b[39mif\u001b[39;00m n_jobs \u001b[39m==\u001b[39m \u001b[39m-\u001b[39m\u001b[39m1\u001b[39m:\n",
            "File \u001b[0;32m~/Unifei/TCC/codigos/EDPs_Neural_network/venv/lib/python3.9/site-packages/optuna/study/_optimize.py:163\u001b[0m, in \u001b[0;36m_optimize_sequential\u001b[0;34m(study, func, n_trials, timeout, catch, callbacks, gc_after_trial, reseed_sampler_rng, time_start, progress_bar)\u001b[0m\n\u001b[1;32m    160\u001b[0m         \u001b[39mbreak\u001b[39;00m\n\u001b[1;32m    162\u001b[0m \u001b[39mtry\u001b[39;00m:\n\u001b[0;32m--> 163\u001b[0m     frozen_trial \u001b[39m=\u001b[39m _run_trial(study, func, catch)\n\u001b[1;32m    164\u001b[0m \u001b[39mfinally\u001b[39;00m:\n\u001b[1;32m    165\u001b[0m     \u001b[39m# The following line mitigates memory problems that can be occurred in some\u001b[39;00m\n\u001b[1;32m    166\u001b[0m     \u001b[39m# environments (e.g., services that use computing containers such as GitHub Actions).\u001b[39;00m\n\u001b[1;32m    167\u001b[0m     \u001b[39m# Please refer to the following PR for further details:\u001b[39;00m\n\u001b[1;32m    168\u001b[0m     \u001b[39m# https://github.com/optuna/optuna/pull/325.\u001b[39;00m\n\u001b[1;32m    169\u001b[0m     \u001b[39mif\u001b[39;00m gc_after_trial:\n",
            "File \u001b[0;32m~/Unifei/TCC/codigos/EDPs_Neural_network/venv/lib/python3.9/site-packages/optuna/study/_optimize.py:251\u001b[0m, in \u001b[0;36m_run_trial\u001b[0;34m(study, func, catch)\u001b[0m\n\u001b[1;32m    244\u001b[0m         \u001b[39massert\u001b[39;00m \u001b[39mFalse\u001b[39;00m, \u001b[39m\"\u001b[39m\u001b[39mShould not reach.\u001b[39m\u001b[39m\"\u001b[39m\n\u001b[1;32m    246\u001b[0m \u001b[39mif\u001b[39;00m (\n\u001b[1;32m    247\u001b[0m     frozen_trial\u001b[39m.\u001b[39mstate \u001b[39m==\u001b[39m TrialState\u001b[39m.\u001b[39mFAIL\n\u001b[1;32m    248\u001b[0m     \u001b[39mand\u001b[39;00m func_err \u001b[39mis\u001b[39;00m \u001b[39mnot\u001b[39;00m \u001b[39mNone\u001b[39;00m\n\u001b[1;32m    249\u001b[0m     \u001b[39mand\u001b[39;00m \u001b[39mnot\u001b[39;00m \u001b[39misinstance\u001b[39m(func_err, catch)\n\u001b[1;32m    250\u001b[0m ):\n\u001b[0;32m--> 251\u001b[0m     \u001b[39mraise\u001b[39;00m func_err\n\u001b[1;32m    252\u001b[0m \u001b[39mreturn\u001b[39;00m frozen_trial\n",
            "File \u001b[0;32m~/Unifei/TCC/codigos/EDPs_Neural_network/venv/lib/python3.9/site-packages/optuna/study/_optimize.py:200\u001b[0m, in \u001b[0;36m_run_trial\u001b[0;34m(study, func, catch)\u001b[0m\n\u001b[1;32m    198\u001b[0m \u001b[39mwith\u001b[39;00m get_heartbeat_thread(trial\u001b[39m.\u001b[39m_trial_id, study\u001b[39m.\u001b[39m_storage):\n\u001b[1;32m    199\u001b[0m     \u001b[39mtry\u001b[39;00m:\n\u001b[0;32m--> 200\u001b[0m         value_or_values \u001b[39m=\u001b[39m func(trial)\n\u001b[1;32m    201\u001b[0m     \u001b[39mexcept\u001b[39;00m exceptions\u001b[39m.\u001b[39mTrialPruned \u001b[39mas\u001b[39;00m e:\n\u001b[1;32m    202\u001b[0m         \u001b[39m# TODO(mamu): Handle multi-objective cases.\u001b[39;00m\n\u001b[1;32m    203\u001b[0m         state \u001b[39m=\u001b[39m TrialState\u001b[39m.\u001b[39mPRUNED\n",
            "\u001b[1;32m/home/hudson/Unifei/TCC/codigos/EDPs_Neural_network/MLP_GPU.ipynb Cell 25\u001b[0m line \u001b[0;36m4\n\u001b[1;32m     <a href='vscode-notebook-cell:/home/hudson/Unifei/TCC/codigos/EDPs_Neural_network/MLP_GPU.ipynb#Y123sZmlsZQ%3D%3D?line=32'>33</a>\u001b[0m     optimizer \u001b[39m=\u001b[39m optim\u001b[39m.\u001b[39mAdamax\n\u001b[1;32m     <a href='vscode-notebook-cell:/home/hudson/Unifei/TCC/codigos/EDPs_Neural_network/MLP_GPU.ipynb#Y123sZmlsZQ%3D%3D?line=34'>35</a>\u001b[0m net \u001b[39m=\u001b[39m Net\u001b[39m.\u001b[39mNet(layers\u001b[39m=\u001b[39mlayers,\n\u001b[1;32m     <a href='vscode-notebook-cell:/home/hudson/Unifei/TCC/codigos/EDPs_Neural_network/MLP_GPU.ipynb#Y123sZmlsZQ%3D%3D?line=35'>36</a>\u001b[0m               activation_functions\u001b[39m=\u001b[39mactivations_list,\n\u001b[1;32m     <a href='vscode-notebook-cell:/home/hudson/Unifei/TCC/codigos/EDPs_Neural_network/MLP_GPU.ipynb#Y123sZmlsZQ%3D%3D?line=36'>37</a>\u001b[0m               loss\u001b[39m=\u001b[39mLoss\u001b[39m.\u001b[39mLossLaplace(taxa_aceleracao\u001b[39m=\u001b[39mtaxa_aceleracao),\n\u001b[0;32m   (...)\u001b[0m\n\u001b[1;32m     <a href='vscode-notebook-cell:/home/hudson/Unifei/TCC/codigos/EDPs_Neural_network/MLP_GPU.ipynb#Y123sZmlsZQ%3D%3D?line=39'>40</a>\u001b[0m                                 \u001b[39m'\u001b[39m\u001b[39mweight_decay\u001b[39m\u001b[39m'\u001b[39m: weight_decay},\n\u001b[1;32m     <a href='vscode-notebook-cell:/home/hudson/Unifei/TCC/codigos/EDPs_Neural_network/MLP_GPU.ipynb#Y123sZmlsZQ%3D%3D?line=40'>41</a>\u001b[0m               device\u001b[39m=\u001b[39mdevice)\n\u001b[0;32m---> <a href='vscode-notebook-cell:/home/hudson/Unifei/TCC/codigos/EDPs_Neural_network/MLP_GPU.ipynb#Y123sZmlsZQ%3D%3D?line=42'>43</a>\u001b[0m epochs_array, loss_array \u001b[39m=\u001b[39m net\u001b[39m.\u001b[39;49mfit(x\u001b[39m=\u001b[39;49minp, epochs\u001b[39m=\u001b[39;49mnum_epochs, nbatches\u001b[39m=\u001b[39;49mbatch_size, output_loss\u001b[39m=\u001b[39;49m\u001b[39mTrue\u001b[39;49;00m)\n\u001b[1;32m     <a href='vscode-notebook-cell:/home/hudson/Unifei/TCC/codigos/EDPs_Neural_network/MLP_GPU.ipynb#Y123sZmlsZQ%3D%3D?line=44'>45</a>\u001b[0m mse, mae \u001b[39m=\u001b[39m metricas(net, Loss\u001b[39m.\u001b[39msolution_laplace, a, b)\n\u001b[1;32m     <a href='vscode-notebook-cell:/home/hudson/Unifei/TCC/codigos/EDPs_Neural_network/MLP_GPU.ipynb#Y123sZmlsZQ%3D%3D?line=46'>47</a>\u001b[0m \u001b[39mreturn\u001b[39;00m \u001b[39mfloat\u001b[39m(mse)\n",
            "File \u001b[0;32m~/Unifei/TCC/codigos/EDPs_Neural_network/Net/Net.py:74\u001b[0m, in \u001b[0;36mNet.fit\u001b[0;34m(self, x, epochs, nbatches, output_loss)\u001b[0m\n\u001b[1;32m     71\u001b[0m \u001b[39mfor\u001b[39;00m batch \u001b[39min\u001b[39;00m dataloader_train:\n\u001b[1;32m     72\u001b[0m     \u001b[39mself\u001b[39m\u001b[39m.\u001b[39moptimizer\u001b[39m.\u001b[39mzero_grad()\n\u001b[0;32m---> 74\u001b[0m     loss \u001b[39m=\u001b[39m \u001b[39mself\u001b[39;49m\u001b[39m.\u001b[39;49mloss(\u001b[39mself\u001b[39;49m\u001b[39m.\u001b[39;49mnetwork, batch\u001b[39m.\u001b[39;49mto(\u001b[39mself\u001b[39;49m\u001b[39m.\u001b[39;49m__device))\n\u001b[1;32m     75\u001b[0m     \u001b[39msum\u001b[39m(loss)\u001b[39m.\u001b[39mbackward()\n\u001b[1;32m     76\u001b[0m     \u001b[39mself\u001b[39m\u001b[39m.\u001b[39moptimizer\u001b[39m.\u001b[39mstep()\n",
            "File \u001b[0;32m~/Unifei/TCC/codigos/EDPs_Neural_network/venv/lib/python3.9/site-packages/torch/nn/modules/module.py:1501\u001b[0m, in \u001b[0;36mModule._call_impl\u001b[0;34m(self, *args, **kwargs)\u001b[0m\n\u001b[1;32m   1496\u001b[0m \u001b[39m# If we don't have any hooks, we want to skip the rest of the logic in\u001b[39;00m\n\u001b[1;32m   1497\u001b[0m \u001b[39m# this function, and just call forward.\u001b[39;00m\n\u001b[1;32m   1498\u001b[0m \u001b[39mif\u001b[39;00m \u001b[39mnot\u001b[39;00m (\u001b[39mself\u001b[39m\u001b[39m.\u001b[39m_backward_hooks \u001b[39mor\u001b[39;00m \u001b[39mself\u001b[39m\u001b[39m.\u001b[39m_backward_pre_hooks \u001b[39mor\u001b[39;00m \u001b[39mself\u001b[39m\u001b[39m.\u001b[39m_forward_hooks \u001b[39mor\u001b[39;00m \u001b[39mself\u001b[39m\u001b[39m.\u001b[39m_forward_pre_hooks\n\u001b[1;32m   1499\u001b[0m         \u001b[39mor\u001b[39;00m _global_backward_pre_hooks \u001b[39mor\u001b[39;00m _global_backward_hooks\n\u001b[1;32m   1500\u001b[0m         \u001b[39mor\u001b[39;00m _global_forward_hooks \u001b[39mor\u001b[39;00m _global_forward_pre_hooks):\n\u001b[0;32m-> 1501\u001b[0m     \u001b[39mreturn\u001b[39;00m forward_call(\u001b[39m*\u001b[39;49margs, \u001b[39m*\u001b[39;49m\u001b[39m*\u001b[39;49mkwargs)\n\u001b[1;32m   1502\u001b[0m \u001b[39m# Do not call functions when jit is used\u001b[39;00m\n\u001b[1;32m   1503\u001b[0m full_backward_hooks, non_full_backward_hooks \u001b[39m=\u001b[39m [], []\n",
            "File \u001b[0;32m~/Unifei/TCC/codigos/EDPs_Neural_network/Loss/Loss.py:40\u001b[0m, in \u001b[0;36mforward\u001b[0;34m(self, net, inputs)\u001b[0m\n\u001b[1;32m     33\u001b[0m     super(LossLaplace, self).__init__()\n\u001b[1;32m     34\u001b[0m     self.__taxa_aceleracao = taxa_aceleracao\n\u001b[1;32m     36\u001b[0m def __k(self, x):\n\u001b[1;32m     37\u001b[0m     # if 0 <= y and y <= 1:\n\u001b[1;32m     38\u001b[0m     #   return y\n\u001b[1;32m     39\u001b[0m     # elif 1 <= y and y <= 2:\n\u001b[0;32m---> 40\u001b[0m     #   return 2-y\n\u001b[1;32m     41\u001b[0m     return torch.where(x <= 1.0, x, 2 - x)\n\u001b[1;32m     43\u001b[0m def __dxx(self, func, x, y, h=0.0001):\n",
            "\u001b[0;31mKeyboardInterrupt\u001b[0m: "
          ]
        }
      ],
      "source": [
        "for i in range(1000):\n",
        "    study.optimize(objective, n_trials=1)\n",
        "    joblib.dump(study, 'pickle_data/study.pkl')"
      ]
    },
    {
      "cell_type": "code",
      "execution_count": 40,
      "metadata": {
        "colab": {
          "background_save": true
        },
        "id": "ZLK379gukpV4",
        "outputId": "314509dd-0e9d-4db6-b782-4a188a41427e"
      },
      "outputs": [
        {
          "name": "stdout",
          "output_type": "stream",
          "text": [
            "{'n_layers': 8, 'layer_0_size': 15, 'layer_1_size': 22, 'layer_2_size': 6, 'layer_3_size': 21, 'layer_4_size': 14, 'layer_5_size': 28, 'layer_6_size': 7, 'layer_7_size': 13, 'layer_0_activation': 'silu', 'layer_1_activation': 'silu', 'layer_2_activation': 'silu', 'layer_3_activation': 'tanh', 'layer_4_activation': 'tanh', 'layer_5_activation': 'silu', 'layer_6_activation': 'silu', 'layer_7_activation': 'silu', 'learning_rate': 0.01743784675087206, 'weight_decay': 5.404118367703678e-09, 'optimizer': 'Adamax', 'num_epochs': 22348, 'batch_size': 9, 'taxa de aceleração': 1}\n",
            "1.5452192139980156e-05\n"
          ]
        }
      ],
      "source": [
        "print(study.best_params)\n",
        "print(study.best_value)"
      ]
    }
  ],
  "metadata": {
    "accelerator": "GPU",
    "colab": {
      "provenance": []
    },
    "kernelspec": {
      "display_name": "Python 3",
      "name": "python3"
    },
    "language_info": {
      "codemirror_mode": {
        "name": "ipython",
        "version": 3
      },
      "file_extension": ".py",
      "mimetype": "text/x-python",
      "name": "python",
      "nbconvert_exporter": "python",
      "pygments_lexer": "ipython3",
      "version": "3.9.13"
    },
    "widgets": {
      "application/vnd.jupyter.widget-state+json": {
        "2d135e2aed4d4e81a8bd959077be24c1": {
          "model_module": "@jupyter-widgets/base",
          "model_module_version": "1.2.0",
          "model_name": "LayoutModel",
          "state": {
            "_model_module": "@jupyter-widgets/base",
            "_model_module_version": "1.2.0",
            "_model_name": "LayoutModel",
            "_view_count": null,
            "_view_module": "@jupyter-widgets/base",
            "_view_module_version": "1.2.0",
            "_view_name": "LayoutView",
            "align_content": null,
            "align_items": null,
            "align_self": null,
            "border": null,
            "bottom": null,
            "display": null,
            "flex": null,
            "flex_flow": null,
            "grid_area": null,
            "grid_auto_columns": null,
            "grid_auto_flow": null,
            "grid_auto_rows": null,
            "grid_column": null,
            "grid_gap": null,
            "grid_row": null,
            "grid_template_areas": null,
            "grid_template_columns": null,
            "grid_template_rows": null,
            "height": null,
            "justify_content": null,
            "justify_items": null,
            "left": null,
            "margin": null,
            "max_height": null,
            "max_width": null,
            "min_height": null,
            "min_width": null,
            "object_fit": null,
            "object_position": null,
            "order": null,
            "overflow": null,
            "overflow_x": null,
            "overflow_y": null,
            "padding": null,
            "right": null,
            "top": null,
            "visibility": null,
            "width": null
          }
        },
        "3083df60e23e415dab4c0489cd113a08": {
          "model_module": "@jupyter-widgets/base",
          "model_module_version": "1.2.0",
          "model_name": "LayoutModel",
          "state": {
            "_model_module": "@jupyter-widgets/base",
            "_model_module_version": "1.2.0",
            "_model_name": "LayoutModel",
            "_view_count": null,
            "_view_module": "@jupyter-widgets/base",
            "_view_module_version": "1.2.0",
            "_view_name": "LayoutView",
            "align_content": null,
            "align_items": null,
            "align_self": null,
            "border": null,
            "bottom": null,
            "display": null,
            "flex": null,
            "flex_flow": null,
            "grid_area": null,
            "grid_auto_columns": null,
            "grid_auto_flow": null,
            "grid_auto_rows": null,
            "grid_column": null,
            "grid_gap": null,
            "grid_row": null,
            "grid_template_areas": null,
            "grid_template_columns": null,
            "grid_template_rows": null,
            "height": null,
            "justify_content": null,
            "justify_items": null,
            "left": null,
            "margin": null,
            "max_height": null,
            "max_width": null,
            "min_height": null,
            "min_width": null,
            "object_fit": null,
            "object_position": null,
            "order": null,
            "overflow": null,
            "overflow_x": null,
            "overflow_y": null,
            "padding": null,
            "right": null,
            "top": null,
            "visibility": null,
            "width": null
          }
        },
        "458c6f17afb8407a81992c5e98759a6d": {
          "model_module": "@jupyter-widgets/base",
          "model_module_version": "1.2.0",
          "model_name": "LayoutModel",
          "state": {
            "_model_module": "@jupyter-widgets/base",
            "_model_module_version": "1.2.0",
            "_model_name": "LayoutModel",
            "_view_count": null,
            "_view_module": "@jupyter-widgets/base",
            "_view_module_version": "1.2.0",
            "_view_name": "LayoutView",
            "align_content": null,
            "align_items": null,
            "align_self": null,
            "border": null,
            "bottom": null,
            "display": null,
            "flex": null,
            "flex_flow": null,
            "grid_area": null,
            "grid_auto_columns": null,
            "grid_auto_flow": null,
            "grid_auto_rows": null,
            "grid_column": null,
            "grid_gap": null,
            "grid_row": null,
            "grid_template_areas": null,
            "grid_template_columns": null,
            "grid_template_rows": null,
            "height": null,
            "justify_content": null,
            "justify_items": null,
            "left": null,
            "margin": null,
            "max_height": null,
            "max_width": null,
            "min_height": null,
            "min_width": null,
            "object_fit": null,
            "object_position": null,
            "order": null,
            "overflow": null,
            "overflow_x": null,
            "overflow_y": null,
            "padding": null,
            "right": null,
            "top": null,
            "visibility": null,
            "width": null
          }
        },
        "8cdf80c38e214a3f99ef985369a19999": {
          "model_module": "@jupyter-widgets/controls",
          "model_module_version": "1.5.0",
          "model_name": "FloatProgressModel",
          "state": {
            "_dom_classes": [],
            "_model_module": "@jupyter-widgets/controls",
            "_model_module_version": "1.5.0",
            "_model_name": "FloatProgressModel",
            "_view_count": null,
            "_view_module": "@jupyter-widgets/controls",
            "_view_module_version": "1.5.0",
            "_view_name": "ProgressView",
            "bar_style": "",
            "description": "",
            "description_tooltip": null,
            "layout": "IPY_MODEL_3083df60e23e415dab4c0489cd113a08",
            "max": 3,
            "min": 0,
            "orientation": "horizontal",
            "style": "IPY_MODEL_a869aa90a4ce467ca8f714ff73d53325",
            "value": 2
          }
        },
        "910ed6e8793c4cd3afba849e7c9a5c27": {
          "model_module": "@jupyter-widgets/controls",
          "model_module_version": "1.5.0",
          "model_name": "DescriptionStyleModel",
          "state": {
            "_model_module": "@jupyter-widgets/controls",
            "_model_module_version": "1.5.0",
            "_model_name": "DescriptionStyleModel",
            "_view_count": null,
            "_view_module": "@jupyter-widgets/base",
            "_view_module_version": "1.2.0",
            "_view_name": "StyleView",
            "description_width": ""
          }
        },
        "9d5627003bf04eadab6c156097e6e7ba": {
          "model_module": "@jupyter-widgets/controls",
          "model_module_version": "1.5.0",
          "model_name": "DescriptionStyleModel",
          "state": {
            "_model_module": "@jupyter-widgets/controls",
            "_model_module_version": "1.5.0",
            "_model_name": "DescriptionStyleModel",
            "_view_count": null,
            "_view_module": "@jupyter-widgets/base",
            "_view_module_version": "1.2.0",
            "_view_name": "StyleView",
            "description_width": ""
          }
        },
        "a6d9204350fe47b2a345543614270608": {
          "model_module": "@jupyter-widgets/base",
          "model_module_version": "1.2.0",
          "model_name": "LayoutModel",
          "state": {
            "_model_module": "@jupyter-widgets/base",
            "_model_module_version": "1.2.0",
            "_model_name": "LayoutModel",
            "_view_count": null,
            "_view_module": "@jupyter-widgets/base",
            "_view_module_version": "1.2.0",
            "_view_name": "LayoutView",
            "align_content": null,
            "align_items": null,
            "align_self": null,
            "border": null,
            "bottom": null,
            "display": null,
            "flex": null,
            "flex_flow": null,
            "grid_area": null,
            "grid_auto_columns": null,
            "grid_auto_flow": null,
            "grid_auto_rows": null,
            "grid_column": null,
            "grid_gap": null,
            "grid_row": null,
            "grid_template_areas": null,
            "grid_template_columns": null,
            "grid_template_rows": null,
            "height": null,
            "justify_content": null,
            "justify_items": null,
            "left": null,
            "margin": null,
            "max_height": null,
            "max_width": null,
            "min_height": null,
            "min_width": null,
            "object_fit": null,
            "object_position": null,
            "order": null,
            "overflow": null,
            "overflow_x": null,
            "overflow_y": null,
            "padding": null,
            "right": null,
            "top": null,
            "visibility": null,
            "width": null
          }
        },
        "a867e21070c3464e86b7190cf7ff7adf": {
          "model_module": "@jupyter-widgets/controls",
          "model_module_version": "1.5.0",
          "model_name": "HBoxModel",
          "state": {
            "_dom_classes": [],
            "_model_module": "@jupyter-widgets/controls",
            "_model_module_version": "1.5.0",
            "_model_name": "HBoxModel",
            "_view_count": null,
            "_view_module": "@jupyter-widgets/controls",
            "_view_module_version": "1.5.0",
            "_view_name": "HBoxView",
            "box_style": "",
            "children": [
              "IPY_MODEL_f23ade41b7ef4f15a11a059ad7ef16ba",
              "IPY_MODEL_8cdf80c38e214a3f99ef985369a19999",
              "IPY_MODEL_b975f92a9a37461cb9a2c2a874acde79"
            ],
            "layout": "IPY_MODEL_2d135e2aed4d4e81a8bd959077be24c1"
          }
        },
        "a869aa90a4ce467ca8f714ff73d53325": {
          "model_module": "@jupyter-widgets/controls",
          "model_module_version": "1.5.0",
          "model_name": "ProgressStyleModel",
          "state": {
            "_model_module": "@jupyter-widgets/controls",
            "_model_module_version": "1.5.0",
            "_model_name": "ProgressStyleModel",
            "_view_count": null,
            "_view_module": "@jupyter-widgets/base",
            "_view_module_version": "1.2.0",
            "_view_name": "StyleView",
            "bar_color": null,
            "description_width": ""
          }
        },
        "b975f92a9a37461cb9a2c2a874acde79": {
          "model_module": "@jupyter-widgets/controls",
          "model_module_version": "1.5.0",
          "model_name": "HTMLModel",
          "state": {
            "_dom_classes": [],
            "_model_module": "@jupyter-widgets/controls",
            "_model_module_version": "1.5.0",
            "_model_name": "HTMLModel",
            "_view_count": null,
            "_view_module": "@jupyter-widgets/controls",
            "_view_module_version": "1.5.0",
            "_view_name": "HTMLView",
            "description": "",
            "description_tooltip": null,
            "layout": "IPY_MODEL_a6d9204350fe47b2a345543614270608",
            "placeholder": "​",
            "style": "IPY_MODEL_9d5627003bf04eadab6c156097e6e7ba",
            "value": " 2/3 [54:41&lt;22:41, 1361.49s/it]"
          }
        },
        "f23ade41b7ef4f15a11a059ad7ef16ba": {
          "model_module": "@jupyter-widgets/controls",
          "model_module_version": "1.5.0",
          "model_name": "HTMLModel",
          "state": {
            "_dom_classes": [],
            "_model_module": "@jupyter-widgets/controls",
            "_model_module_version": "1.5.0",
            "_model_name": "HTMLModel",
            "_view_count": null,
            "_view_module": "@jupyter-widgets/controls",
            "_view_module_version": "1.5.0",
            "_view_name": "HTMLView",
            "description": "",
            "description_tooltip": null,
            "layout": "IPY_MODEL_458c6f17afb8407a81992c5e98759a6d",
            "placeholder": "​",
            "style": "IPY_MODEL_910ed6e8793c4cd3afba849e7c9a5c27",
            "value": "Best trial: 0. Best value: 0.000109694:  67%"
          }
        }
      }
    }
  },
  "nbformat": 4,
  "nbformat_minor": 0
}
